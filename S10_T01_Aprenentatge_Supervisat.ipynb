{
 "cells": [
  {
   "cell_type": "markdown",
   "id": "05ba07e5",
   "metadata": {},
   "source": [
    "# S10_T01_Aprenentatge_Supervisat\n",
    "\n",
    "### Ex1: Crea almenys tres models de classificació diferents per intentar predir el millor possible l’endarreriment dels vols (ArrDelay) de DelayedFlights.csv. Considera si el vol ha arribat tard o no (ArrDelay > 0)\n"
   ]
  },
  {
   "cell_type": "code",
   "execution_count": 2,
   "id": "9b34c7bf",
   "metadata": {
    "ExecuteTime": {
     "end_time": "2022-06-08T12:42:02.892630Z",
     "start_time": "2022-06-08T12:40:31.218515Z"
    }
   },
   "outputs": [],
   "source": [
    "#Importem llibreries necessàries\n",
    "import numpy as np\n",
    "import pandas as pd\n",
    "import matplotlib.pyplot as plt\n",
    "import seaborn as sns\n",
    "import lazypredict\n",
    "import sklearn\n",
    "import imblearn\n",
    "\n",
    "#Importem altres llibreries (Decision Tree Classifier, train_test_split, metrics module for accuracy calculation)\n",
    "from scipy import stats\n",
    "from sklearn.preprocessing import StandardScaler\n",
    "from sklearn.tree import DecisionTreeClassifier \n",
    "from sklearn.model_selection import train_test_split\n",
    "from sklearn.metrics import classification_report, confusion_matrix\n",
    "from sklearn import metrics\n",
    "from sklearn.model_selection import KFold\n",
    "from sklearn.model_selection import cross_val_score\n",
    "from sklearn.model_selection import StratifiedKFold\n",
    "#from lazypredict.Supervised import LazyClassifier\n",
    "from sklearn import datasets"
   ]
  },
  {
   "cell_type": "code",
   "execution_count": 6,
   "id": "66e47443",
   "metadata": {
    "ExecuteTime": {
     "end_time": "2022-06-08T12:46:31.813410Z",
     "start_time": "2022-06-08T12:46:23.249047Z"
    }
   },
   "outputs": [
    {
     "data": {
      "text/html": [
       "<div>\n",
       "<style scoped>\n",
       "    .dataframe tbody tr th:only-of-type {\n",
       "        vertical-align: middle;\n",
       "    }\n",
       "\n",
       "    .dataframe tbody tr th {\n",
       "        vertical-align: top;\n",
       "    }\n",
       "\n",
       "    .dataframe thead th {\n",
       "        text-align: right;\n",
       "    }\n",
       "</style>\n",
       "<table border=\"1\" class=\"dataframe\">\n",
       "  <thead>\n",
       "    <tr style=\"text-align: right;\">\n",
       "      <th></th>\n",
       "      <th>Unnamed: 0</th>\n",
       "      <th>Year</th>\n",
       "      <th>Month</th>\n",
       "      <th>DayofMonth</th>\n",
       "      <th>DayOfWeek</th>\n",
       "      <th>DepTime</th>\n",
       "      <th>CRSDepTime</th>\n",
       "      <th>ArrTime</th>\n",
       "      <th>CRSArrTime</th>\n",
       "      <th>UniqueCarrier</th>\n",
       "      <th>FlightNum</th>\n",
       "      <th>TailNum</th>\n",
       "      <th>ActualElapsedTime</th>\n",
       "      <th>CRSElapsedTime</th>\n",
       "      <th>AirTime</th>\n",
       "      <th>ArrDelay</th>\n",
       "      <th>DepDelay</th>\n",
       "      <th>Origin</th>\n",
       "      <th>Dest</th>\n",
       "      <th>Distance</th>\n",
       "      <th>TaxiIn</th>\n",
       "      <th>TaxiOut</th>\n",
       "      <th>Cancelled</th>\n",
       "      <th>CancellationCode</th>\n",
       "      <th>Diverted</th>\n",
       "      <th>CarrierDelay</th>\n",
       "      <th>WeatherDelay</th>\n",
       "      <th>NASDelay</th>\n",
       "      <th>SecurityDelay</th>\n",
       "      <th>LateAircraftDelay</th>\n",
       "    </tr>\n",
       "  </thead>\n",
       "  <tbody>\n",
       "    <tr>\n",
       "      <th>0</th>\n",
       "      <td>0</td>\n",
       "      <td>2008</td>\n",
       "      <td>1</td>\n",
       "      <td>3</td>\n",
       "      <td>4</td>\n",
       "      <td>2003.0</td>\n",
       "      <td>1955</td>\n",
       "      <td>2211.0</td>\n",
       "      <td>2225</td>\n",
       "      <td>WN</td>\n",
       "      <td>335</td>\n",
       "      <td>N712SW</td>\n",
       "      <td>128.0</td>\n",
       "      <td>150.0</td>\n",
       "      <td>116.0</td>\n",
       "      <td>-14.0</td>\n",
       "      <td>8.0</td>\n",
       "      <td>IAD</td>\n",
       "      <td>TPA</td>\n",
       "      <td>810</td>\n",
       "      <td>4.0</td>\n",
       "      <td>8.0</td>\n",
       "      <td>0</td>\n",
       "      <td>N</td>\n",
       "      <td>0</td>\n",
       "      <td>NaN</td>\n",
       "      <td>NaN</td>\n",
       "      <td>NaN</td>\n",
       "      <td>NaN</td>\n",
       "      <td>NaN</td>\n",
       "    </tr>\n",
       "    <tr>\n",
       "      <th>1</th>\n",
       "      <td>1</td>\n",
       "      <td>2008</td>\n",
       "      <td>1</td>\n",
       "      <td>3</td>\n",
       "      <td>4</td>\n",
       "      <td>754.0</td>\n",
       "      <td>735</td>\n",
       "      <td>1002.0</td>\n",
       "      <td>1000</td>\n",
       "      <td>WN</td>\n",
       "      <td>3231</td>\n",
       "      <td>N772SW</td>\n",
       "      <td>128.0</td>\n",
       "      <td>145.0</td>\n",
       "      <td>113.0</td>\n",
       "      <td>2.0</td>\n",
       "      <td>19.0</td>\n",
       "      <td>IAD</td>\n",
       "      <td>TPA</td>\n",
       "      <td>810</td>\n",
       "      <td>5.0</td>\n",
       "      <td>10.0</td>\n",
       "      <td>0</td>\n",
       "      <td>N</td>\n",
       "      <td>0</td>\n",
       "      <td>NaN</td>\n",
       "      <td>NaN</td>\n",
       "      <td>NaN</td>\n",
       "      <td>NaN</td>\n",
       "      <td>NaN</td>\n",
       "    </tr>\n",
       "    <tr>\n",
       "      <th>2</th>\n",
       "      <td>2</td>\n",
       "      <td>2008</td>\n",
       "      <td>1</td>\n",
       "      <td>3</td>\n",
       "      <td>4</td>\n",
       "      <td>628.0</td>\n",
       "      <td>620</td>\n",
       "      <td>804.0</td>\n",
       "      <td>750</td>\n",
       "      <td>WN</td>\n",
       "      <td>448</td>\n",
       "      <td>N428WN</td>\n",
       "      <td>96.0</td>\n",
       "      <td>90.0</td>\n",
       "      <td>76.0</td>\n",
       "      <td>14.0</td>\n",
       "      <td>8.0</td>\n",
       "      <td>IND</td>\n",
       "      <td>BWI</td>\n",
       "      <td>515</td>\n",
       "      <td>3.0</td>\n",
       "      <td>17.0</td>\n",
       "      <td>0</td>\n",
       "      <td>N</td>\n",
       "      <td>0</td>\n",
       "      <td>NaN</td>\n",
       "      <td>NaN</td>\n",
       "      <td>NaN</td>\n",
       "      <td>NaN</td>\n",
       "      <td>NaN</td>\n",
       "    </tr>\n",
       "    <tr>\n",
       "      <th>3</th>\n",
       "      <td>4</td>\n",
       "      <td>2008</td>\n",
       "      <td>1</td>\n",
       "      <td>3</td>\n",
       "      <td>4</td>\n",
       "      <td>1829.0</td>\n",
       "      <td>1755</td>\n",
       "      <td>1959.0</td>\n",
       "      <td>1925</td>\n",
       "      <td>WN</td>\n",
       "      <td>3920</td>\n",
       "      <td>N464WN</td>\n",
       "      <td>90.0</td>\n",
       "      <td>90.0</td>\n",
       "      <td>77.0</td>\n",
       "      <td>34.0</td>\n",
       "      <td>34.0</td>\n",
       "      <td>IND</td>\n",
       "      <td>BWI</td>\n",
       "      <td>515</td>\n",
       "      <td>3.0</td>\n",
       "      <td>10.0</td>\n",
       "      <td>0</td>\n",
       "      <td>N</td>\n",
       "      <td>0</td>\n",
       "      <td>2.0</td>\n",
       "      <td>0.0</td>\n",
       "      <td>0.0</td>\n",
       "      <td>0.0</td>\n",
       "      <td>32.0</td>\n",
       "    </tr>\n",
       "    <tr>\n",
       "      <th>4</th>\n",
       "      <td>5</td>\n",
       "      <td>2008</td>\n",
       "      <td>1</td>\n",
       "      <td>3</td>\n",
       "      <td>4</td>\n",
       "      <td>1940.0</td>\n",
       "      <td>1915</td>\n",
       "      <td>2121.0</td>\n",
       "      <td>2110</td>\n",
       "      <td>WN</td>\n",
       "      <td>378</td>\n",
       "      <td>N726SW</td>\n",
       "      <td>101.0</td>\n",
       "      <td>115.0</td>\n",
       "      <td>87.0</td>\n",
       "      <td>11.0</td>\n",
       "      <td>25.0</td>\n",
       "      <td>IND</td>\n",
       "      <td>JAX</td>\n",
       "      <td>688</td>\n",
       "      <td>4.0</td>\n",
       "      <td>10.0</td>\n",
       "      <td>0</td>\n",
       "      <td>N</td>\n",
       "      <td>0</td>\n",
       "      <td>NaN</td>\n",
       "      <td>NaN</td>\n",
       "      <td>NaN</td>\n",
       "      <td>NaN</td>\n",
       "      <td>NaN</td>\n",
       "    </tr>\n",
       "  </tbody>\n",
       "</table>\n",
       "</div>"
      ],
      "text/plain": [
       "   Unnamed: 0  Year  Month  DayofMonth  DayOfWeek  DepTime  CRSDepTime  \\\n",
       "0           0  2008      1           3          4   2003.0        1955   \n",
       "1           1  2008      1           3          4    754.0         735   \n",
       "2           2  2008      1           3          4    628.0         620   \n",
       "3           4  2008      1           3          4   1829.0        1755   \n",
       "4           5  2008      1           3          4   1940.0        1915   \n",
       "\n",
       "   ArrTime  CRSArrTime UniqueCarrier  FlightNum TailNum  ActualElapsedTime  \\\n",
       "0   2211.0        2225            WN        335  N712SW              128.0   \n",
       "1   1002.0        1000            WN       3231  N772SW              128.0   \n",
       "2    804.0         750            WN        448  N428WN               96.0   \n",
       "3   1959.0        1925            WN       3920  N464WN               90.0   \n",
       "4   2121.0        2110            WN        378  N726SW              101.0   \n",
       "\n",
       "   CRSElapsedTime  AirTime  ArrDelay  DepDelay Origin Dest  Distance  TaxiIn  \\\n",
       "0           150.0    116.0     -14.0       8.0    IAD  TPA       810     4.0   \n",
       "1           145.0    113.0       2.0      19.0    IAD  TPA       810     5.0   \n",
       "2            90.0     76.0      14.0       8.0    IND  BWI       515     3.0   \n",
       "3            90.0     77.0      34.0      34.0    IND  BWI       515     3.0   \n",
       "4           115.0     87.0      11.0      25.0    IND  JAX       688     4.0   \n",
       "\n",
       "   TaxiOut  Cancelled CancellationCode  Diverted  CarrierDelay  WeatherDelay  \\\n",
       "0      8.0          0                N         0           NaN           NaN   \n",
       "1     10.0          0                N         0           NaN           NaN   \n",
       "2     17.0          0                N         0           NaN           NaN   \n",
       "3     10.0          0                N         0           2.0           0.0   \n",
       "4     10.0          0                N         0           NaN           NaN   \n",
       "\n",
       "   NASDelay  SecurityDelay  LateAircraftDelay  \n",
       "0       NaN            NaN                NaN  \n",
       "1       NaN            NaN                NaN  \n",
       "2       NaN            NaN                NaN  \n",
       "3       0.0            0.0               32.0  \n",
       "4       NaN            NaN                NaN  "
      ]
     },
     "execution_count": 6,
     "metadata": {},
     "output_type": "execute_result"
    }
   ],
   "source": [
    "#carreguem dataset DelayedFlights.csv\n",
    "pd.set_option(\"display.max_columns\", None)\n",
    "data_frame = pd.read_csv(\"C:/Users/Beth/Python_Projects/Tasks_Sprint2/Task5/DelayedFlights.csv\")\n",
    "data_frame.head()"
   ]
  },
  {
   "cell_type": "code",
   "execution_count": 7,
   "id": "654fcf85",
   "metadata": {
    "ExecuteTime": {
     "end_time": "2022-06-03T09:45:00.484872Z",
     "start_time": "2022-06-03T09:45:00.471911Z"
    }
   },
   "outputs": [
    {
     "data": {
      "text/plain": [
       "Index(['Unnamed: 0', 'Year', 'Month', 'DayofMonth', 'DayOfWeek', 'DepTime',\n",
       "       'CRSDepTime', 'ArrTime', 'CRSArrTime', 'UniqueCarrier', 'FlightNum',\n",
       "       'TailNum', 'ActualElapsedTime', 'CRSElapsedTime', 'AirTime', 'ArrDelay',\n",
       "       'DepDelay', 'Origin', 'Dest', 'Distance', 'TaxiIn', 'TaxiOut',\n",
       "       'Cancelled', 'CancellationCode', 'Diverted', 'CarrierDelay',\n",
       "       'WeatherDelay', 'NASDelay', 'SecurityDelay', 'LateAircraftDelay'],\n",
       "      dtype='object')"
      ]
     },
     "execution_count": 7,
     "metadata": {},
     "output_type": "execute_result"
    }
   ],
   "source": [
    "#Mirem les columnes\n",
    "data_frame.columns"
   ]
  },
  {
   "cell_type": "code",
   "execution_count": 7,
   "id": "8b630efc",
   "metadata": {
    "ExecuteTime": {
     "end_time": "2022-06-08T12:46:40.438929Z",
     "start_time": "2022-06-08T12:46:40.420945Z"
    }
   },
   "outputs": [
    {
     "data": {
      "text/plain": [
       "(1936758, 30)"
      ]
     },
     "execution_count": 7,
     "metadata": {},
     "output_type": "execute_result"
    }
   ],
   "source": [
    "#un cop tenim les dades, estudiem i identifiquem nan values or anormality values, wrong or duplicates values\n",
    "#per veure tot això, comprovem els valors estadístics de les nostres dades\n",
    "data_frame.shape"
   ]
  },
  {
   "cell_type": "code",
   "execution_count": 9,
   "id": "60eb58bf",
   "metadata": {
    "ExecuteTime": {
     "end_time": "2022-06-03T09:45:03.777899Z",
     "start_time": "2022-06-03T09:45:00.749853Z"
    }
   },
   "outputs": [
    {
     "data": {
      "text/html": [
       "<div>\n",
       "<style scoped>\n",
       "    .dataframe tbody tr th:only-of-type {\n",
       "        vertical-align: middle;\n",
       "    }\n",
       "\n",
       "    .dataframe tbody tr th {\n",
       "        vertical-align: top;\n",
       "    }\n",
       "\n",
       "    .dataframe thead th {\n",
       "        text-align: right;\n",
       "    }\n",
       "</style>\n",
       "<table border=\"1\" class=\"dataframe\">\n",
       "  <thead>\n",
       "    <tr style=\"text-align: right;\">\n",
       "      <th></th>\n",
       "      <th>Unnamed: 0</th>\n",
       "      <th>Year</th>\n",
       "      <th>Month</th>\n",
       "      <th>DayofMonth</th>\n",
       "      <th>DayOfWeek</th>\n",
       "      <th>DepTime</th>\n",
       "      <th>CRSDepTime</th>\n",
       "      <th>ArrTime</th>\n",
       "      <th>CRSArrTime</th>\n",
       "      <th>FlightNum</th>\n",
       "      <th>ActualElapsedTime</th>\n",
       "      <th>CRSElapsedTime</th>\n",
       "      <th>AirTime</th>\n",
       "      <th>ArrDelay</th>\n",
       "      <th>DepDelay</th>\n",
       "      <th>Distance</th>\n",
       "      <th>TaxiIn</th>\n",
       "      <th>TaxiOut</th>\n",
       "      <th>Cancelled</th>\n",
       "      <th>Diverted</th>\n",
       "      <th>CarrierDelay</th>\n",
       "      <th>WeatherDelay</th>\n",
       "      <th>NASDelay</th>\n",
       "      <th>SecurityDelay</th>\n",
       "      <th>LateAircraftDelay</th>\n",
       "    </tr>\n",
       "  </thead>\n",
       "  <tbody>\n",
       "    <tr>\n",
       "      <th>count</th>\n",
       "      <td>1.936758e+06</td>\n",
       "      <td>1936758.0</td>\n",
       "      <td>1.936758e+06</td>\n",
       "      <td>1.936758e+06</td>\n",
       "      <td>1.936758e+06</td>\n",
       "      <td>1.936758e+06</td>\n",
       "      <td>1.936758e+06</td>\n",
       "      <td>1.929648e+06</td>\n",
       "      <td>1.936758e+06</td>\n",
       "      <td>1.936758e+06</td>\n",
       "      <td>1.928371e+06</td>\n",
       "      <td>1.936560e+06</td>\n",
       "      <td>1.928371e+06</td>\n",
       "      <td>1.928371e+06</td>\n",
       "      <td>1.936758e+06</td>\n",
       "      <td>1.936758e+06</td>\n",
       "      <td>1.929648e+06</td>\n",
       "      <td>1.936303e+06</td>\n",
       "      <td>1.936758e+06</td>\n",
       "      <td>1.936758e+06</td>\n",
       "      <td>1.247488e+06</td>\n",
       "      <td>1.247488e+06</td>\n",
       "      <td>1.247488e+06</td>\n",
       "      <td>1.247488e+06</td>\n",
       "      <td>1.247488e+06</td>\n",
       "    </tr>\n",
       "    <tr>\n",
       "      <th>mean</th>\n",
       "      <td>3.341651e+06</td>\n",
       "      <td>2008.0</td>\n",
       "      <td>6.111106e+00</td>\n",
       "      <td>1.575347e+01</td>\n",
       "      <td>3.984827e+00</td>\n",
       "      <td>1.518534e+03</td>\n",
       "      <td>1.467473e+03</td>\n",
       "      <td>1.610141e+03</td>\n",
       "      <td>1.634225e+03</td>\n",
       "      <td>2.184263e+03</td>\n",
       "      <td>1.333059e+02</td>\n",
       "      <td>1.343027e+02</td>\n",
       "      <td>1.082771e+02</td>\n",
       "      <td>4.219988e+01</td>\n",
       "      <td>4.318518e+01</td>\n",
       "      <td>7.656862e+02</td>\n",
       "      <td>6.812975e+00</td>\n",
       "      <td>1.823220e+01</td>\n",
       "      <td>3.268348e-04</td>\n",
       "      <td>4.003598e-03</td>\n",
       "      <td>1.917940e+01</td>\n",
       "      <td>3.703571e+00</td>\n",
       "      <td>1.502164e+01</td>\n",
       "      <td>9.013714e-02</td>\n",
       "      <td>2.529647e+01</td>\n",
       "    </tr>\n",
       "    <tr>\n",
       "      <th>std</th>\n",
       "      <td>2.066065e+06</td>\n",
       "      <td>0.0</td>\n",
       "      <td>3.482546e+00</td>\n",
       "      <td>8.776272e+00</td>\n",
       "      <td>1.995966e+00</td>\n",
       "      <td>4.504853e+02</td>\n",
       "      <td>4.247668e+02</td>\n",
       "      <td>5.481781e+02</td>\n",
       "      <td>4.646347e+02</td>\n",
       "      <td>1.944702e+03</td>\n",
       "      <td>7.206007e+01</td>\n",
       "      <td>7.134144e+01</td>\n",
       "      <td>6.864261e+01</td>\n",
       "      <td>5.678472e+01</td>\n",
       "      <td>5.340250e+01</td>\n",
       "      <td>5.744797e+02</td>\n",
       "      <td>5.273595e+00</td>\n",
       "      <td>1.433853e+01</td>\n",
       "      <td>1.807562e-02</td>\n",
       "      <td>6.314722e-02</td>\n",
       "      <td>4.354621e+01</td>\n",
       "      <td>2.149290e+01</td>\n",
       "      <td>3.383305e+01</td>\n",
       "      <td>2.022714e+00</td>\n",
       "      <td>4.205486e+01</td>\n",
       "    </tr>\n",
       "    <tr>\n",
       "      <th>min</th>\n",
       "      <td>0.000000e+00</td>\n",
       "      <td>2008.0</td>\n",
       "      <td>1.000000e+00</td>\n",
       "      <td>1.000000e+00</td>\n",
       "      <td>1.000000e+00</td>\n",
       "      <td>1.000000e+00</td>\n",
       "      <td>0.000000e+00</td>\n",
       "      <td>1.000000e+00</td>\n",
       "      <td>0.000000e+00</td>\n",
       "      <td>1.000000e+00</td>\n",
       "      <td>1.400000e+01</td>\n",
       "      <td>-2.500000e+01</td>\n",
       "      <td>0.000000e+00</td>\n",
       "      <td>-1.090000e+02</td>\n",
       "      <td>6.000000e+00</td>\n",
       "      <td>1.100000e+01</td>\n",
       "      <td>0.000000e+00</td>\n",
       "      <td>0.000000e+00</td>\n",
       "      <td>0.000000e+00</td>\n",
       "      <td>0.000000e+00</td>\n",
       "      <td>0.000000e+00</td>\n",
       "      <td>0.000000e+00</td>\n",
       "      <td>0.000000e+00</td>\n",
       "      <td>0.000000e+00</td>\n",
       "      <td>0.000000e+00</td>\n",
       "    </tr>\n",
       "    <tr>\n",
       "      <th>25%</th>\n",
       "      <td>1.517452e+06</td>\n",
       "      <td>2008.0</td>\n",
       "      <td>3.000000e+00</td>\n",
       "      <td>8.000000e+00</td>\n",
       "      <td>2.000000e+00</td>\n",
       "      <td>1.203000e+03</td>\n",
       "      <td>1.135000e+03</td>\n",
       "      <td>1.316000e+03</td>\n",
       "      <td>1.325000e+03</td>\n",
       "      <td>6.100000e+02</td>\n",
       "      <td>8.000000e+01</td>\n",
       "      <td>8.200000e+01</td>\n",
       "      <td>5.800000e+01</td>\n",
       "      <td>9.000000e+00</td>\n",
       "      <td>1.200000e+01</td>\n",
       "      <td>3.380000e+02</td>\n",
       "      <td>4.000000e+00</td>\n",
       "      <td>1.000000e+01</td>\n",
       "      <td>0.000000e+00</td>\n",
       "      <td>0.000000e+00</td>\n",
       "      <td>0.000000e+00</td>\n",
       "      <td>0.000000e+00</td>\n",
       "      <td>0.000000e+00</td>\n",
       "      <td>0.000000e+00</td>\n",
       "      <td>0.000000e+00</td>\n",
       "    </tr>\n",
       "    <tr>\n",
       "      <th>50%</th>\n",
       "      <td>3.242558e+06</td>\n",
       "      <td>2008.0</td>\n",
       "      <td>6.000000e+00</td>\n",
       "      <td>1.600000e+01</td>\n",
       "      <td>4.000000e+00</td>\n",
       "      <td>1.545000e+03</td>\n",
       "      <td>1.510000e+03</td>\n",
       "      <td>1.715000e+03</td>\n",
       "      <td>1.705000e+03</td>\n",
       "      <td>1.543000e+03</td>\n",
       "      <td>1.160000e+02</td>\n",
       "      <td>1.160000e+02</td>\n",
       "      <td>9.000000e+01</td>\n",
       "      <td>2.400000e+01</td>\n",
       "      <td>2.400000e+01</td>\n",
       "      <td>6.060000e+02</td>\n",
       "      <td>6.000000e+00</td>\n",
       "      <td>1.400000e+01</td>\n",
       "      <td>0.000000e+00</td>\n",
       "      <td>0.000000e+00</td>\n",
       "      <td>2.000000e+00</td>\n",
       "      <td>0.000000e+00</td>\n",
       "      <td>2.000000e+00</td>\n",
       "      <td>0.000000e+00</td>\n",
       "      <td>8.000000e+00</td>\n",
       "    </tr>\n",
       "    <tr>\n",
       "      <th>75%</th>\n",
       "      <td>4.972467e+06</td>\n",
       "      <td>2008.0</td>\n",
       "      <td>9.000000e+00</td>\n",
       "      <td>2.300000e+01</td>\n",
       "      <td>6.000000e+00</td>\n",
       "      <td>1.900000e+03</td>\n",
       "      <td>1.815000e+03</td>\n",
       "      <td>2.030000e+03</td>\n",
       "      <td>2.014000e+03</td>\n",
       "      <td>3.422000e+03</td>\n",
       "      <td>1.650000e+02</td>\n",
       "      <td>1.650000e+02</td>\n",
       "      <td>1.370000e+02</td>\n",
       "      <td>5.600000e+01</td>\n",
       "      <td>5.300000e+01</td>\n",
       "      <td>9.980000e+02</td>\n",
       "      <td>8.000000e+00</td>\n",
       "      <td>2.100000e+01</td>\n",
       "      <td>0.000000e+00</td>\n",
       "      <td>0.000000e+00</td>\n",
       "      <td>2.100000e+01</td>\n",
       "      <td>0.000000e+00</td>\n",
       "      <td>1.500000e+01</td>\n",
       "      <td>0.000000e+00</td>\n",
       "      <td>3.300000e+01</td>\n",
       "    </tr>\n",
       "    <tr>\n",
       "      <th>max</th>\n",
       "      <td>7.009727e+06</td>\n",
       "      <td>2008.0</td>\n",
       "      <td>1.200000e+01</td>\n",
       "      <td>3.100000e+01</td>\n",
       "      <td>7.000000e+00</td>\n",
       "      <td>2.400000e+03</td>\n",
       "      <td>2.359000e+03</td>\n",
       "      <td>2.400000e+03</td>\n",
       "      <td>2.400000e+03</td>\n",
       "      <td>9.742000e+03</td>\n",
       "      <td>1.114000e+03</td>\n",
       "      <td>6.600000e+02</td>\n",
       "      <td>1.091000e+03</td>\n",
       "      <td>2.461000e+03</td>\n",
       "      <td>2.467000e+03</td>\n",
       "      <td>4.962000e+03</td>\n",
       "      <td>2.400000e+02</td>\n",
       "      <td>4.220000e+02</td>\n",
       "      <td>1.000000e+00</td>\n",
       "      <td>1.000000e+00</td>\n",
       "      <td>2.436000e+03</td>\n",
       "      <td>1.352000e+03</td>\n",
       "      <td>1.357000e+03</td>\n",
       "      <td>3.920000e+02</td>\n",
       "      <td>1.316000e+03</td>\n",
       "    </tr>\n",
       "  </tbody>\n",
       "</table>\n",
       "</div>"
      ],
      "text/plain": [
       "         Unnamed: 0       Year         Month    DayofMonth     DayOfWeek  \\\n",
       "count  1.936758e+06  1936758.0  1.936758e+06  1.936758e+06  1.936758e+06   \n",
       "mean   3.341651e+06     2008.0  6.111106e+00  1.575347e+01  3.984827e+00   \n",
       "std    2.066065e+06        0.0  3.482546e+00  8.776272e+00  1.995966e+00   \n",
       "min    0.000000e+00     2008.0  1.000000e+00  1.000000e+00  1.000000e+00   \n",
       "25%    1.517452e+06     2008.0  3.000000e+00  8.000000e+00  2.000000e+00   \n",
       "50%    3.242558e+06     2008.0  6.000000e+00  1.600000e+01  4.000000e+00   \n",
       "75%    4.972467e+06     2008.0  9.000000e+00  2.300000e+01  6.000000e+00   \n",
       "max    7.009727e+06     2008.0  1.200000e+01  3.100000e+01  7.000000e+00   \n",
       "\n",
       "            DepTime    CRSDepTime       ArrTime    CRSArrTime     FlightNum  \\\n",
       "count  1.936758e+06  1.936758e+06  1.929648e+06  1.936758e+06  1.936758e+06   \n",
       "mean   1.518534e+03  1.467473e+03  1.610141e+03  1.634225e+03  2.184263e+03   \n",
       "std    4.504853e+02  4.247668e+02  5.481781e+02  4.646347e+02  1.944702e+03   \n",
       "min    1.000000e+00  0.000000e+00  1.000000e+00  0.000000e+00  1.000000e+00   \n",
       "25%    1.203000e+03  1.135000e+03  1.316000e+03  1.325000e+03  6.100000e+02   \n",
       "50%    1.545000e+03  1.510000e+03  1.715000e+03  1.705000e+03  1.543000e+03   \n",
       "75%    1.900000e+03  1.815000e+03  2.030000e+03  2.014000e+03  3.422000e+03   \n",
       "max    2.400000e+03  2.359000e+03  2.400000e+03  2.400000e+03  9.742000e+03   \n",
       "\n",
       "       ActualElapsedTime  CRSElapsedTime       AirTime      ArrDelay  \\\n",
       "count       1.928371e+06    1.936560e+06  1.928371e+06  1.928371e+06   \n",
       "mean        1.333059e+02    1.343027e+02  1.082771e+02  4.219988e+01   \n",
       "std         7.206007e+01    7.134144e+01  6.864261e+01  5.678472e+01   \n",
       "min         1.400000e+01   -2.500000e+01  0.000000e+00 -1.090000e+02   \n",
       "25%         8.000000e+01    8.200000e+01  5.800000e+01  9.000000e+00   \n",
       "50%         1.160000e+02    1.160000e+02  9.000000e+01  2.400000e+01   \n",
       "75%         1.650000e+02    1.650000e+02  1.370000e+02  5.600000e+01   \n",
       "max         1.114000e+03    6.600000e+02  1.091000e+03  2.461000e+03   \n",
       "\n",
       "           DepDelay      Distance        TaxiIn       TaxiOut     Cancelled  \\\n",
       "count  1.936758e+06  1.936758e+06  1.929648e+06  1.936303e+06  1.936758e+06   \n",
       "mean   4.318518e+01  7.656862e+02  6.812975e+00  1.823220e+01  3.268348e-04   \n",
       "std    5.340250e+01  5.744797e+02  5.273595e+00  1.433853e+01  1.807562e-02   \n",
       "min    6.000000e+00  1.100000e+01  0.000000e+00  0.000000e+00  0.000000e+00   \n",
       "25%    1.200000e+01  3.380000e+02  4.000000e+00  1.000000e+01  0.000000e+00   \n",
       "50%    2.400000e+01  6.060000e+02  6.000000e+00  1.400000e+01  0.000000e+00   \n",
       "75%    5.300000e+01  9.980000e+02  8.000000e+00  2.100000e+01  0.000000e+00   \n",
       "max    2.467000e+03  4.962000e+03  2.400000e+02  4.220000e+02  1.000000e+00   \n",
       "\n",
       "           Diverted  CarrierDelay  WeatherDelay      NASDelay  SecurityDelay  \\\n",
       "count  1.936758e+06  1.247488e+06  1.247488e+06  1.247488e+06   1.247488e+06   \n",
       "mean   4.003598e-03  1.917940e+01  3.703571e+00  1.502164e+01   9.013714e-02   \n",
       "std    6.314722e-02  4.354621e+01  2.149290e+01  3.383305e+01   2.022714e+00   \n",
       "min    0.000000e+00  0.000000e+00  0.000000e+00  0.000000e+00   0.000000e+00   \n",
       "25%    0.000000e+00  0.000000e+00  0.000000e+00  0.000000e+00   0.000000e+00   \n",
       "50%    0.000000e+00  2.000000e+00  0.000000e+00  2.000000e+00   0.000000e+00   \n",
       "75%    0.000000e+00  2.100000e+01  0.000000e+00  1.500000e+01   0.000000e+00   \n",
       "max    1.000000e+00  2.436000e+03  1.352000e+03  1.357000e+03   3.920000e+02   \n",
       "\n",
       "       LateAircraftDelay  \n",
       "count       1.247488e+06  \n",
       "mean        2.529647e+01  \n",
       "std         4.205486e+01  \n",
       "min         0.000000e+00  \n",
       "25%         0.000000e+00  \n",
       "50%         8.000000e+00  \n",
       "75%         3.300000e+01  \n",
       "max         1.316000e+03  "
      ]
     },
     "execution_count": 9,
     "metadata": {},
     "output_type": "execute_result"
    }
   ],
   "source": [
    "#valors estadistics de les dades\n",
    "pd.set_option(\"display.max_columns\", None)\n",
    "data_frame.describe()"
   ]
  },
  {
   "cell_type": "code",
   "execution_count": 10,
   "id": "76eb63df",
   "metadata": {
    "ExecuteTime": {
     "end_time": "2022-06-03T09:45:07.781297Z",
     "start_time": "2022-06-03T09:45:03.780891Z"
    }
   },
   "outputs": [
    {
     "data": {
      "text/plain": [
       "0"
      ]
     },
     "execution_count": 10,
     "metadata": {},
     "output_type": "execute_result"
    }
   ],
   "source": [
    "#comprovem duplicates i si n'hi ha els eliminem\n",
    "sum(data_frame.duplicated())"
   ]
  },
  {
   "cell_type": "code",
   "execution_count": 11,
   "id": "ad3d5700",
   "metadata": {
    "ExecuteTime": {
     "end_time": "2022-06-03T09:45:07.797265Z",
     "start_time": "2022-06-03T09:45:07.783293Z"
    },
    "scrolled": true
   },
   "outputs": [
    {
     "data": {
      "text/plain": [
       "(1936758, 30)"
      ]
     },
     "execution_count": 11,
     "metadata": {},
     "output_type": "execute_result"
    }
   ],
   "source": [
    "data_frame.shape"
   ]
  },
  {
   "cell_type": "code",
   "execution_count": 12,
   "id": "83f22403",
   "metadata": {
    "ExecuteTime": {
     "end_time": "2022-06-03T09:45:07.987080Z",
     "start_time": "2022-06-03T09:45:07.799251Z"
    }
   },
   "outputs": [
    {
     "data": {
      "text/html": [
       "<div>\n",
       "<style scoped>\n",
       "    .dataframe tbody tr th:only-of-type {\n",
       "        vertical-align: middle;\n",
       "    }\n",
       "\n",
       "    .dataframe tbody tr th {\n",
       "        vertical-align: top;\n",
       "    }\n",
       "\n",
       "    .dataframe thead th {\n",
       "        text-align: right;\n",
       "    }\n",
       "</style>\n",
       "<table border=\"1\" class=\"dataframe\">\n",
       "  <thead>\n",
       "    <tr style=\"text-align: right;\">\n",
       "      <th></th>\n",
       "      <th>Unnamed: 0</th>\n",
       "      <th>Year</th>\n",
       "      <th>Month</th>\n",
       "      <th>DayofMonth</th>\n",
       "      <th>DayOfWeek</th>\n",
       "      <th>DepTime</th>\n",
       "      <th>CRSDepTime</th>\n",
       "      <th>ArrTime</th>\n",
       "      <th>CRSArrTime</th>\n",
       "      <th>UniqueCarrier</th>\n",
       "      <th>FlightNum</th>\n",
       "      <th>TailNum</th>\n",
       "      <th>ActualElapsedTime</th>\n",
       "      <th>CRSElapsedTime</th>\n",
       "      <th>AirTime</th>\n",
       "      <th>ArrDelay</th>\n",
       "      <th>DepDelay</th>\n",
       "      <th>Origin</th>\n",
       "      <th>Dest</th>\n",
       "      <th>Distance</th>\n",
       "      <th>TaxiIn</th>\n",
       "      <th>TaxiOut</th>\n",
       "      <th>Cancelled</th>\n",
       "      <th>CancellationCode</th>\n",
       "      <th>Diverted</th>\n",
       "      <th>CarrierDelay</th>\n",
       "      <th>WeatherDelay</th>\n",
       "      <th>NASDelay</th>\n",
       "      <th>SecurityDelay</th>\n",
       "      <th>LateAircraftDelay</th>\n",
       "    </tr>\n",
       "  </thead>\n",
       "  <tbody>\n",
       "    <tr>\n",
       "      <th>0</th>\n",
       "      <td>0</td>\n",
       "      <td>2008</td>\n",
       "      <td>1</td>\n",
       "      <td>3</td>\n",
       "      <td>4</td>\n",
       "      <td>2003.0</td>\n",
       "      <td>1955</td>\n",
       "      <td>2211.0</td>\n",
       "      <td>2225</td>\n",
       "      <td>WN</td>\n",
       "      <td>335</td>\n",
       "      <td>N712SW</td>\n",
       "      <td>128.0</td>\n",
       "      <td>150.0</td>\n",
       "      <td>116.0</td>\n",
       "      <td>-14.0</td>\n",
       "      <td>8.0</td>\n",
       "      <td>IAD</td>\n",
       "      <td>TPA</td>\n",
       "      <td>810</td>\n",
       "      <td>4.0</td>\n",
       "      <td>8.0</td>\n",
       "      <td>0</td>\n",
       "      <td>N</td>\n",
       "      <td>0</td>\n",
       "      <td>NaN</td>\n",
       "      <td>NaN</td>\n",
       "      <td>NaN</td>\n",
       "      <td>NaN</td>\n",
       "      <td>NaN</td>\n",
       "    </tr>\n",
       "    <tr>\n",
       "      <th>1</th>\n",
       "      <td>1</td>\n",
       "      <td>2008</td>\n",
       "      <td>1</td>\n",
       "      <td>3</td>\n",
       "      <td>4</td>\n",
       "      <td>754.0</td>\n",
       "      <td>735</td>\n",
       "      <td>1002.0</td>\n",
       "      <td>1000</td>\n",
       "      <td>WN</td>\n",
       "      <td>3231</td>\n",
       "      <td>N772SW</td>\n",
       "      <td>128.0</td>\n",
       "      <td>145.0</td>\n",
       "      <td>113.0</td>\n",
       "      <td>2.0</td>\n",
       "      <td>19.0</td>\n",
       "      <td>IAD</td>\n",
       "      <td>TPA</td>\n",
       "      <td>810</td>\n",
       "      <td>5.0</td>\n",
       "      <td>10.0</td>\n",
       "      <td>0</td>\n",
       "      <td>N</td>\n",
       "      <td>0</td>\n",
       "      <td>NaN</td>\n",
       "      <td>NaN</td>\n",
       "      <td>NaN</td>\n",
       "      <td>NaN</td>\n",
       "      <td>NaN</td>\n",
       "    </tr>\n",
       "    <tr>\n",
       "      <th>2</th>\n",
       "      <td>2</td>\n",
       "      <td>2008</td>\n",
       "      <td>1</td>\n",
       "      <td>3</td>\n",
       "      <td>4</td>\n",
       "      <td>628.0</td>\n",
       "      <td>620</td>\n",
       "      <td>804.0</td>\n",
       "      <td>750</td>\n",
       "      <td>WN</td>\n",
       "      <td>448</td>\n",
       "      <td>N428WN</td>\n",
       "      <td>96.0</td>\n",
       "      <td>90.0</td>\n",
       "      <td>76.0</td>\n",
       "      <td>14.0</td>\n",
       "      <td>8.0</td>\n",
       "      <td>IND</td>\n",
       "      <td>BWI</td>\n",
       "      <td>515</td>\n",
       "      <td>3.0</td>\n",
       "      <td>17.0</td>\n",
       "      <td>0</td>\n",
       "      <td>N</td>\n",
       "      <td>0</td>\n",
       "      <td>NaN</td>\n",
       "      <td>NaN</td>\n",
       "      <td>NaN</td>\n",
       "      <td>NaN</td>\n",
       "      <td>NaN</td>\n",
       "    </tr>\n",
       "    <tr>\n",
       "      <th>3</th>\n",
       "      <td>4</td>\n",
       "      <td>2008</td>\n",
       "      <td>1</td>\n",
       "      <td>3</td>\n",
       "      <td>4</td>\n",
       "      <td>1829.0</td>\n",
       "      <td>1755</td>\n",
       "      <td>1959.0</td>\n",
       "      <td>1925</td>\n",
       "      <td>WN</td>\n",
       "      <td>3920</td>\n",
       "      <td>N464WN</td>\n",
       "      <td>90.0</td>\n",
       "      <td>90.0</td>\n",
       "      <td>77.0</td>\n",
       "      <td>34.0</td>\n",
       "      <td>34.0</td>\n",
       "      <td>IND</td>\n",
       "      <td>BWI</td>\n",
       "      <td>515</td>\n",
       "      <td>3.0</td>\n",
       "      <td>10.0</td>\n",
       "      <td>0</td>\n",
       "      <td>N</td>\n",
       "      <td>0</td>\n",
       "      <td>2.0</td>\n",
       "      <td>0.0</td>\n",
       "      <td>0.0</td>\n",
       "      <td>0.0</td>\n",
       "      <td>32.0</td>\n",
       "    </tr>\n",
       "    <tr>\n",
       "      <th>4</th>\n",
       "      <td>5</td>\n",
       "      <td>2008</td>\n",
       "      <td>1</td>\n",
       "      <td>3</td>\n",
       "      <td>4</td>\n",
       "      <td>1940.0</td>\n",
       "      <td>1915</td>\n",
       "      <td>2121.0</td>\n",
       "      <td>2110</td>\n",
       "      <td>WN</td>\n",
       "      <td>378</td>\n",
       "      <td>N726SW</td>\n",
       "      <td>101.0</td>\n",
       "      <td>115.0</td>\n",
       "      <td>87.0</td>\n",
       "      <td>11.0</td>\n",
       "      <td>25.0</td>\n",
       "      <td>IND</td>\n",
       "      <td>JAX</td>\n",
       "      <td>688</td>\n",
       "      <td>4.0</td>\n",
       "      <td>10.0</td>\n",
       "      <td>0</td>\n",
       "      <td>N</td>\n",
       "      <td>0</td>\n",
       "      <td>NaN</td>\n",
       "      <td>NaN</td>\n",
       "      <td>NaN</td>\n",
       "      <td>NaN</td>\n",
       "      <td>NaN</td>\n",
       "    </tr>\n",
       "    <tr>\n",
       "      <th>5</th>\n",
       "      <td>6</td>\n",
       "      <td>2008</td>\n",
       "      <td>1</td>\n",
       "      <td>3</td>\n",
       "      <td>4</td>\n",
       "      <td>1937.0</td>\n",
       "      <td>1830</td>\n",
       "      <td>2037.0</td>\n",
       "      <td>1940</td>\n",
       "      <td>WN</td>\n",
       "      <td>509</td>\n",
       "      <td>N763SW</td>\n",
       "      <td>240.0</td>\n",
       "      <td>250.0</td>\n",
       "      <td>230.0</td>\n",
       "      <td>57.0</td>\n",
       "      <td>67.0</td>\n",
       "      <td>IND</td>\n",
       "      <td>LAS</td>\n",
       "      <td>1591</td>\n",
       "      <td>3.0</td>\n",
       "      <td>7.0</td>\n",
       "      <td>0</td>\n",
       "      <td>N</td>\n",
       "      <td>0</td>\n",
       "      <td>10.0</td>\n",
       "      <td>0.0</td>\n",
       "      <td>0.0</td>\n",
       "      <td>0.0</td>\n",
       "      <td>47.0</td>\n",
       "    </tr>\n",
       "    <tr>\n",
       "      <th>6</th>\n",
       "      <td>10</td>\n",
       "      <td>2008</td>\n",
       "      <td>1</td>\n",
       "      <td>3</td>\n",
       "      <td>4</td>\n",
       "      <td>706.0</td>\n",
       "      <td>700</td>\n",
       "      <td>916.0</td>\n",
       "      <td>915</td>\n",
       "      <td>WN</td>\n",
       "      <td>100</td>\n",
       "      <td>N690SW</td>\n",
       "      <td>130.0</td>\n",
       "      <td>135.0</td>\n",
       "      <td>106.0</td>\n",
       "      <td>1.0</td>\n",
       "      <td>6.0</td>\n",
       "      <td>IND</td>\n",
       "      <td>MCO</td>\n",
       "      <td>828</td>\n",
       "      <td>5.0</td>\n",
       "      <td>19.0</td>\n",
       "      <td>0</td>\n",
       "      <td>N</td>\n",
       "      <td>0</td>\n",
       "      <td>NaN</td>\n",
       "      <td>NaN</td>\n",
       "      <td>NaN</td>\n",
       "      <td>NaN</td>\n",
       "      <td>NaN</td>\n",
       "    </tr>\n",
       "    <tr>\n",
       "      <th>7</th>\n",
       "      <td>11</td>\n",
       "      <td>2008</td>\n",
       "      <td>1</td>\n",
       "      <td>3</td>\n",
       "      <td>4</td>\n",
       "      <td>1644.0</td>\n",
       "      <td>1510</td>\n",
       "      <td>1845.0</td>\n",
       "      <td>1725</td>\n",
       "      <td>WN</td>\n",
       "      <td>1333</td>\n",
       "      <td>N334SW</td>\n",
       "      <td>121.0</td>\n",
       "      <td>135.0</td>\n",
       "      <td>107.0</td>\n",
       "      <td>80.0</td>\n",
       "      <td>94.0</td>\n",
       "      <td>IND</td>\n",
       "      <td>MCO</td>\n",
       "      <td>828</td>\n",
       "      <td>6.0</td>\n",
       "      <td>8.0</td>\n",
       "      <td>0</td>\n",
       "      <td>N</td>\n",
       "      <td>0</td>\n",
       "      <td>8.0</td>\n",
       "      <td>0.0</td>\n",
       "      <td>0.0</td>\n",
       "      <td>0.0</td>\n",
       "      <td>72.0</td>\n",
       "    </tr>\n",
       "    <tr>\n",
       "      <th>8</th>\n",
       "      <td>15</td>\n",
       "      <td>2008</td>\n",
       "      <td>1</td>\n",
       "      <td>3</td>\n",
       "      <td>4</td>\n",
       "      <td>1029.0</td>\n",
       "      <td>1020</td>\n",
       "      <td>1021.0</td>\n",
       "      <td>1010</td>\n",
       "      <td>WN</td>\n",
       "      <td>2272</td>\n",
       "      <td>N263WN</td>\n",
       "      <td>52.0</td>\n",
       "      <td>50.0</td>\n",
       "      <td>37.0</td>\n",
       "      <td>11.0</td>\n",
       "      <td>9.0</td>\n",
       "      <td>IND</td>\n",
       "      <td>MDW</td>\n",
       "      <td>162</td>\n",
       "      <td>6.0</td>\n",
       "      <td>9.0</td>\n",
       "      <td>0</td>\n",
       "      <td>N</td>\n",
       "      <td>0</td>\n",
       "      <td>NaN</td>\n",
       "      <td>NaN</td>\n",
       "      <td>NaN</td>\n",
       "      <td>NaN</td>\n",
       "      <td>NaN</td>\n",
       "    </tr>\n",
       "    <tr>\n",
       "      <th>9</th>\n",
       "      <td>16</td>\n",
       "      <td>2008</td>\n",
       "      <td>1</td>\n",
       "      <td>3</td>\n",
       "      <td>4</td>\n",
       "      <td>1452.0</td>\n",
       "      <td>1425</td>\n",
       "      <td>1640.0</td>\n",
       "      <td>1625</td>\n",
       "      <td>WN</td>\n",
       "      <td>675</td>\n",
       "      <td>N286WN</td>\n",
       "      <td>228.0</td>\n",
       "      <td>240.0</td>\n",
       "      <td>213.0</td>\n",
       "      <td>15.0</td>\n",
       "      <td>27.0</td>\n",
       "      <td>IND</td>\n",
       "      <td>PHX</td>\n",
       "      <td>1489</td>\n",
       "      <td>7.0</td>\n",
       "      <td>8.0</td>\n",
       "      <td>0</td>\n",
       "      <td>N</td>\n",
       "      <td>0</td>\n",
       "      <td>3.0</td>\n",
       "      <td>0.0</td>\n",
       "      <td>0.0</td>\n",
       "      <td>0.0</td>\n",
       "      <td>12.0</td>\n",
       "    </tr>\n",
       "  </tbody>\n",
       "</table>\n",
       "</div>"
      ],
      "text/plain": [
       "   Unnamed: 0  Year  Month  DayofMonth  DayOfWeek  DepTime  CRSDepTime  \\\n",
       "0           0  2008      1           3          4   2003.0        1955   \n",
       "1           1  2008      1           3          4    754.0         735   \n",
       "2           2  2008      1           3          4    628.0         620   \n",
       "3           4  2008      1           3          4   1829.0        1755   \n",
       "4           5  2008      1           3          4   1940.0        1915   \n",
       "5           6  2008      1           3          4   1937.0        1830   \n",
       "6          10  2008      1           3          4    706.0         700   \n",
       "7          11  2008      1           3          4   1644.0        1510   \n",
       "8          15  2008      1           3          4   1029.0        1020   \n",
       "9          16  2008      1           3          4   1452.0        1425   \n",
       "\n",
       "   ArrTime  CRSArrTime UniqueCarrier  FlightNum TailNum  ActualElapsedTime  \\\n",
       "0   2211.0        2225            WN        335  N712SW              128.0   \n",
       "1   1002.0        1000            WN       3231  N772SW              128.0   \n",
       "2    804.0         750            WN        448  N428WN               96.0   \n",
       "3   1959.0        1925            WN       3920  N464WN               90.0   \n",
       "4   2121.0        2110            WN        378  N726SW              101.0   \n",
       "5   2037.0        1940            WN        509  N763SW              240.0   \n",
       "6    916.0         915            WN        100  N690SW              130.0   \n",
       "7   1845.0        1725            WN       1333  N334SW              121.0   \n",
       "8   1021.0        1010            WN       2272  N263WN               52.0   \n",
       "9   1640.0        1625            WN        675  N286WN              228.0   \n",
       "\n",
       "   CRSElapsedTime  AirTime  ArrDelay  DepDelay Origin Dest  Distance  TaxiIn  \\\n",
       "0           150.0    116.0     -14.0       8.0    IAD  TPA       810     4.0   \n",
       "1           145.0    113.0       2.0      19.0    IAD  TPA       810     5.0   \n",
       "2            90.0     76.0      14.0       8.0    IND  BWI       515     3.0   \n",
       "3            90.0     77.0      34.0      34.0    IND  BWI       515     3.0   \n",
       "4           115.0     87.0      11.0      25.0    IND  JAX       688     4.0   \n",
       "5           250.0    230.0      57.0      67.0    IND  LAS      1591     3.0   \n",
       "6           135.0    106.0       1.0       6.0    IND  MCO       828     5.0   \n",
       "7           135.0    107.0      80.0      94.0    IND  MCO       828     6.0   \n",
       "8            50.0     37.0      11.0       9.0    IND  MDW       162     6.0   \n",
       "9           240.0    213.0      15.0      27.0    IND  PHX      1489     7.0   \n",
       "\n",
       "   TaxiOut  Cancelled CancellationCode  Diverted  CarrierDelay  WeatherDelay  \\\n",
       "0      8.0          0                N         0           NaN           NaN   \n",
       "1     10.0          0                N         0           NaN           NaN   \n",
       "2     17.0          0                N         0           NaN           NaN   \n",
       "3     10.0          0                N         0           2.0           0.0   \n",
       "4     10.0          0                N         0           NaN           NaN   \n",
       "5      7.0          0                N         0          10.0           0.0   \n",
       "6     19.0          0                N         0           NaN           NaN   \n",
       "7      8.0          0                N         0           8.0           0.0   \n",
       "8      9.0          0                N         0           NaN           NaN   \n",
       "9      8.0          0                N         0           3.0           0.0   \n",
       "\n",
       "   NASDelay  SecurityDelay  LateAircraftDelay  \n",
       "0       NaN            NaN                NaN  \n",
       "1       NaN            NaN                NaN  \n",
       "2       NaN            NaN                NaN  \n",
       "3       0.0            0.0               32.0  \n",
       "4       NaN            NaN                NaN  \n",
       "5       0.0            0.0               47.0  \n",
       "6       NaN            NaN                NaN  \n",
       "7       0.0            0.0               72.0  \n",
       "8       NaN            NaN                NaN  \n",
       "9       0.0            0.0               12.0  "
      ]
     },
     "execution_count": 12,
     "metadata": {},
     "output_type": "execute_result"
    }
   ],
   "source": [
    "data_frame.head(10)"
   ]
  },
  {
   "cell_type": "code",
   "execution_count": 13,
   "id": "4f4f42ad",
   "metadata": {
    "ExecuteTime": {
     "end_time": "2022-06-03T09:45:08.081745Z",
     "start_time": "2022-06-03T09:45:07.989049Z"
    }
   },
   "outputs": [],
   "source": [
    "#transformarem ArrDelay en atribut binari per poder fer la predicció de si ha arribat tard o no! \n",
    "#amb això obtenim la variable target del nostre model\n",
    "#si ha arribat tard, ArrDelay serà >0, i sinó ArrDelay<0"
   ]
  },
  {
   "cell_type": "code",
   "execution_count": 8,
   "id": "c77ce9ae",
   "metadata": {
    "ExecuteTime": {
     "end_time": "2022-06-08T12:46:59.608591Z",
     "start_time": "2022-06-08T12:46:58.800082Z"
    }
   },
   "outputs": [
    {
     "data": {
      "text/html": [
       "<div>\n",
       "<style scoped>\n",
       "    .dataframe tbody tr th:only-of-type {\n",
       "        vertical-align: middle;\n",
       "    }\n",
       "\n",
       "    .dataframe tbody tr th {\n",
       "        vertical-align: top;\n",
       "    }\n",
       "\n",
       "    .dataframe thead th {\n",
       "        text-align: right;\n",
       "    }\n",
       "</style>\n",
       "<table border=\"1\" class=\"dataframe\">\n",
       "  <thead>\n",
       "    <tr style=\"text-align: right;\">\n",
       "      <th></th>\n",
       "      <th>Unnamed: 0</th>\n",
       "      <th>Year</th>\n",
       "      <th>Month</th>\n",
       "      <th>DayofMonth</th>\n",
       "      <th>DayOfWeek</th>\n",
       "      <th>DepTime</th>\n",
       "      <th>CRSDepTime</th>\n",
       "      <th>ArrTime</th>\n",
       "      <th>CRSArrTime</th>\n",
       "      <th>UniqueCarrier</th>\n",
       "      <th>FlightNum</th>\n",
       "      <th>TailNum</th>\n",
       "      <th>ActualElapsedTime</th>\n",
       "      <th>CRSElapsedTime</th>\n",
       "      <th>AirTime</th>\n",
       "      <th>ArrDelay</th>\n",
       "      <th>DepDelay</th>\n",
       "      <th>Origin</th>\n",
       "      <th>Dest</th>\n",
       "      <th>Distance</th>\n",
       "      <th>TaxiIn</th>\n",
       "      <th>TaxiOut</th>\n",
       "      <th>Cancelled</th>\n",
       "      <th>CancellationCode</th>\n",
       "      <th>Diverted</th>\n",
       "      <th>CarrierDelay</th>\n",
       "      <th>WeatherDelay</th>\n",
       "      <th>NASDelay</th>\n",
       "      <th>SecurityDelay</th>\n",
       "      <th>LateAircraftDelay</th>\n",
       "      <th>Delay</th>\n",
       "    </tr>\n",
       "  </thead>\n",
       "  <tbody>\n",
       "    <tr>\n",
       "      <th>0</th>\n",
       "      <td>0</td>\n",
       "      <td>2008</td>\n",
       "      <td>1</td>\n",
       "      <td>3</td>\n",
       "      <td>4</td>\n",
       "      <td>2003.0</td>\n",
       "      <td>1955</td>\n",
       "      <td>2211.0</td>\n",
       "      <td>2225</td>\n",
       "      <td>WN</td>\n",
       "      <td>335</td>\n",
       "      <td>N712SW</td>\n",
       "      <td>128.0</td>\n",
       "      <td>150.0</td>\n",
       "      <td>116.0</td>\n",
       "      <td>-14.0</td>\n",
       "      <td>8.0</td>\n",
       "      <td>IAD</td>\n",
       "      <td>TPA</td>\n",
       "      <td>810</td>\n",
       "      <td>4.0</td>\n",
       "      <td>8.0</td>\n",
       "      <td>0</td>\n",
       "      <td>N</td>\n",
       "      <td>0</td>\n",
       "      <td>NaN</td>\n",
       "      <td>NaN</td>\n",
       "      <td>NaN</td>\n",
       "      <td>NaN</td>\n",
       "      <td>NaN</td>\n",
       "      <td>0</td>\n",
       "    </tr>\n",
       "    <tr>\n",
       "      <th>1</th>\n",
       "      <td>1</td>\n",
       "      <td>2008</td>\n",
       "      <td>1</td>\n",
       "      <td>3</td>\n",
       "      <td>4</td>\n",
       "      <td>754.0</td>\n",
       "      <td>735</td>\n",
       "      <td>1002.0</td>\n",
       "      <td>1000</td>\n",
       "      <td>WN</td>\n",
       "      <td>3231</td>\n",
       "      <td>N772SW</td>\n",
       "      <td>128.0</td>\n",
       "      <td>145.0</td>\n",
       "      <td>113.0</td>\n",
       "      <td>2.0</td>\n",
       "      <td>19.0</td>\n",
       "      <td>IAD</td>\n",
       "      <td>TPA</td>\n",
       "      <td>810</td>\n",
       "      <td>5.0</td>\n",
       "      <td>10.0</td>\n",
       "      <td>0</td>\n",
       "      <td>N</td>\n",
       "      <td>0</td>\n",
       "      <td>NaN</td>\n",
       "      <td>NaN</td>\n",
       "      <td>NaN</td>\n",
       "      <td>NaN</td>\n",
       "      <td>NaN</td>\n",
       "      <td>1</td>\n",
       "    </tr>\n",
       "    <tr>\n",
       "      <th>2</th>\n",
       "      <td>2</td>\n",
       "      <td>2008</td>\n",
       "      <td>1</td>\n",
       "      <td>3</td>\n",
       "      <td>4</td>\n",
       "      <td>628.0</td>\n",
       "      <td>620</td>\n",
       "      <td>804.0</td>\n",
       "      <td>750</td>\n",
       "      <td>WN</td>\n",
       "      <td>448</td>\n",
       "      <td>N428WN</td>\n",
       "      <td>96.0</td>\n",
       "      <td>90.0</td>\n",
       "      <td>76.0</td>\n",
       "      <td>14.0</td>\n",
       "      <td>8.0</td>\n",
       "      <td>IND</td>\n",
       "      <td>BWI</td>\n",
       "      <td>515</td>\n",
       "      <td>3.0</td>\n",
       "      <td>17.0</td>\n",
       "      <td>0</td>\n",
       "      <td>N</td>\n",
       "      <td>0</td>\n",
       "      <td>NaN</td>\n",
       "      <td>NaN</td>\n",
       "      <td>NaN</td>\n",
       "      <td>NaN</td>\n",
       "      <td>NaN</td>\n",
       "      <td>1</td>\n",
       "    </tr>\n",
       "    <tr>\n",
       "      <th>3</th>\n",
       "      <td>4</td>\n",
       "      <td>2008</td>\n",
       "      <td>1</td>\n",
       "      <td>3</td>\n",
       "      <td>4</td>\n",
       "      <td>1829.0</td>\n",
       "      <td>1755</td>\n",
       "      <td>1959.0</td>\n",
       "      <td>1925</td>\n",
       "      <td>WN</td>\n",
       "      <td>3920</td>\n",
       "      <td>N464WN</td>\n",
       "      <td>90.0</td>\n",
       "      <td>90.0</td>\n",
       "      <td>77.0</td>\n",
       "      <td>34.0</td>\n",
       "      <td>34.0</td>\n",
       "      <td>IND</td>\n",
       "      <td>BWI</td>\n",
       "      <td>515</td>\n",
       "      <td>3.0</td>\n",
       "      <td>10.0</td>\n",
       "      <td>0</td>\n",
       "      <td>N</td>\n",
       "      <td>0</td>\n",
       "      <td>2.0</td>\n",
       "      <td>0.0</td>\n",
       "      <td>0.0</td>\n",
       "      <td>0.0</td>\n",
       "      <td>32.0</td>\n",
       "      <td>1</td>\n",
       "    </tr>\n",
       "    <tr>\n",
       "      <th>4</th>\n",
       "      <td>5</td>\n",
       "      <td>2008</td>\n",
       "      <td>1</td>\n",
       "      <td>3</td>\n",
       "      <td>4</td>\n",
       "      <td>1940.0</td>\n",
       "      <td>1915</td>\n",
       "      <td>2121.0</td>\n",
       "      <td>2110</td>\n",
       "      <td>WN</td>\n",
       "      <td>378</td>\n",
       "      <td>N726SW</td>\n",
       "      <td>101.0</td>\n",
       "      <td>115.0</td>\n",
       "      <td>87.0</td>\n",
       "      <td>11.0</td>\n",
       "      <td>25.0</td>\n",
       "      <td>IND</td>\n",
       "      <td>JAX</td>\n",
       "      <td>688</td>\n",
       "      <td>4.0</td>\n",
       "      <td>10.0</td>\n",
       "      <td>0</td>\n",
       "      <td>N</td>\n",
       "      <td>0</td>\n",
       "      <td>NaN</td>\n",
       "      <td>NaN</td>\n",
       "      <td>NaN</td>\n",
       "      <td>NaN</td>\n",
       "      <td>NaN</td>\n",
       "      <td>1</td>\n",
       "    </tr>\n",
       "    <tr>\n",
       "      <th>5</th>\n",
       "      <td>6</td>\n",
       "      <td>2008</td>\n",
       "      <td>1</td>\n",
       "      <td>3</td>\n",
       "      <td>4</td>\n",
       "      <td>1937.0</td>\n",
       "      <td>1830</td>\n",
       "      <td>2037.0</td>\n",
       "      <td>1940</td>\n",
       "      <td>WN</td>\n",
       "      <td>509</td>\n",
       "      <td>N763SW</td>\n",
       "      <td>240.0</td>\n",
       "      <td>250.0</td>\n",
       "      <td>230.0</td>\n",
       "      <td>57.0</td>\n",
       "      <td>67.0</td>\n",
       "      <td>IND</td>\n",
       "      <td>LAS</td>\n",
       "      <td>1591</td>\n",
       "      <td>3.0</td>\n",
       "      <td>7.0</td>\n",
       "      <td>0</td>\n",
       "      <td>N</td>\n",
       "      <td>0</td>\n",
       "      <td>10.0</td>\n",
       "      <td>0.0</td>\n",
       "      <td>0.0</td>\n",
       "      <td>0.0</td>\n",
       "      <td>47.0</td>\n",
       "      <td>1</td>\n",
       "    </tr>\n",
       "    <tr>\n",
       "      <th>6</th>\n",
       "      <td>10</td>\n",
       "      <td>2008</td>\n",
       "      <td>1</td>\n",
       "      <td>3</td>\n",
       "      <td>4</td>\n",
       "      <td>706.0</td>\n",
       "      <td>700</td>\n",
       "      <td>916.0</td>\n",
       "      <td>915</td>\n",
       "      <td>WN</td>\n",
       "      <td>100</td>\n",
       "      <td>N690SW</td>\n",
       "      <td>130.0</td>\n",
       "      <td>135.0</td>\n",
       "      <td>106.0</td>\n",
       "      <td>1.0</td>\n",
       "      <td>6.0</td>\n",
       "      <td>IND</td>\n",
       "      <td>MCO</td>\n",
       "      <td>828</td>\n",
       "      <td>5.0</td>\n",
       "      <td>19.0</td>\n",
       "      <td>0</td>\n",
       "      <td>N</td>\n",
       "      <td>0</td>\n",
       "      <td>NaN</td>\n",
       "      <td>NaN</td>\n",
       "      <td>NaN</td>\n",
       "      <td>NaN</td>\n",
       "      <td>NaN</td>\n",
       "      <td>1</td>\n",
       "    </tr>\n",
       "    <tr>\n",
       "      <th>7</th>\n",
       "      <td>11</td>\n",
       "      <td>2008</td>\n",
       "      <td>1</td>\n",
       "      <td>3</td>\n",
       "      <td>4</td>\n",
       "      <td>1644.0</td>\n",
       "      <td>1510</td>\n",
       "      <td>1845.0</td>\n",
       "      <td>1725</td>\n",
       "      <td>WN</td>\n",
       "      <td>1333</td>\n",
       "      <td>N334SW</td>\n",
       "      <td>121.0</td>\n",
       "      <td>135.0</td>\n",
       "      <td>107.0</td>\n",
       "      <td>80.0</td>\n",
       "      <td>94.0</td>\n",
       "      <td>IND</td>\n",
       "      <td>MCO</td>\n",
       "      <td>828</td>\n",
       "      <td>6.0</td>\n",
       "      <td>8.0</td>\n",
       "      <td>0</td>\n",
       "      <td>N</td>\n",
       "      <td>0</td>\n",
       "      <td>8.0</td>\n",
       "      <td>0.0</td>\n",
       "      <td>0.0</td>\n",
       "      <td>0.0</td>\n",
       "      <td>72.0</td>\n",
       "      <td>1</td>\n",
       "    </tr>\n",
       "    <tr>\n",
       "      <th>8</th>\n",
       "      <td>15</td>\n",
       "      <td>2008</td>\n",
       "      <td>1</td>\n",
       "      <td>3</td>\n",
       "      <td>4</td>\n",
       "      <td>1029.0</td>\n",
       "      <td>1020</td>\n",
       "      <td>1021.0</td>\n",
       "      <td>1010</td>\n",
       "      <td>WN</td>\n",
       "      <td>2272</td>\n",
       "      <td>N263WN</td>\n",
       "      <td>52.0</td>\n",
       "      <td>50.0</td>\n",
       "      <td>37.0</td>\n",
       "      <td>11.0</td>\n",
       "      <td>9.0</td>\n",
       "      <td>IND</td>\n",
       "      <td>MDW</td>\n",
       "      <td>162</td>\n",
       "      <td>6.0</td>\n",
       "      <td>9.0</td>\n",
       "      <td>0</td>\n",
       "      <td>N</td>\n",
       "      <td>0</td>\n",
       "      <td>NaN</td>\n",
       "      <td>NaN</td>\n",
       "      <td>NaN</td>\n",
       "      <td>NaN</td>\n",
       "      <td>NaN</td>\n",
       "      <td>1</td>\n",
       "    </tr>\n",
       "    <tr>\n",
       "      <th>9</th>\n",
       "      <td>16</td>\n",
       "      <td>2008</td>\n",
       "      <td>1</td>\n",
       "      <td>3</td>\n",
       "      <td>4</td>\n",
       "      <td>1452.0</td>\n",
       "      <td>1425</td>\n",
       "      <td>1640.0</td>\n",
       "      <td>1625</td>\n",
       "      <td>WN</td>\n",
       "      <td>675</td>\n",
       "      <td>N286WN</td>\n",
       "      <td>228.0</td>\n",
       "      <td>240.0</td>\n",
       "      <td>213.0</td>\n",
       "      <td>15.0</td>\n",
       "      <td>27.0</td>\n",
       "      <td>IND</td>\n",
       "      <td>PHX</td>\n",
       "      <td>1489</td>\n",
       "      <td>7.0</td>\n",
       "      <td>8.0</td>\n",
       "      <td>0</td>\n",
       "      <td>N</td>\n",
       "      <td>0</td>\n",
       "      <td>3.0</td>\n",
       "      <td>0.0</td>\n",
       "      <td>0.0</td>\n",
       "      <td>0.0</td>\n",
       "      <td>12.0</td>\n",
       "      <td>1</td>\n",
       "    </tr>\n",
       "    <tr>\n",
       "      <th>10</th>\n",
       "      <td>17</td>\n",
       "      <td>2008</td>\n",
       "      <td>1</td>\n",
       "      <td>3</td>\n",
       "      <td>4</td>\n",
       "      <td>754.0</td>\n",
       "      <td>745</td>\n",
       "      <td>940.0</td>\n",
       "      <td>955</td>\n",
       "      <td>WN</td>\n",
       "      <td>1144</td>\n",
       "      <td>N778SW</td>\n",
       "      <td>226.0</td>\n",
       "      <td>250.0</td>\n",
       "      <td>205.0</td>\n",
       "      <td>-15.0</td>\n",
       "      <td>9.0</td>\n",
       "      <td>IND</td>\n",
       "      <td>PHX</td>\n",
       "      <td>1489</td>\n",
       "      <td>5.0</td>\n",
       "      <td>16.0</td>\n",
       "      <td>0</td>\n",
       "      <td>N</td>\n",
       "      <td>0</td>\n",
       "      <td>NaN</td>\n",
       "      <td>NaN</td>\n",
       "      <td>NaN</td>\n",
       "      <td>NaN</td>\n",
       "      <td>NaN</td>\n",
       "      <td>0</td>\n",
       "    </tr>\n",
       "    <tr>\n",
       "      <th>11</th>\n",
       "      <td>18</td>\n",
       "      <td>2008</td>\n",
       "      <td>1</td>\n",
       "      <td>3</td>\n",
       "      <td>4</td>\n",
       "      <td>1323.0</td>\n",
       "      <td>1255</td>\n",
       "      <td>1526.0</td>\n",
       "      <td>1510</td>\n",
       "      <td>WN</td>\n",
       "      <td>4</td>\n",
       "      <td>N674AA</td>\n",
       "      <td>123.0</td>\n",
       "      <td>135.0</td>\n",
       "      <td>110.0</td>\n",
       "      <td>16.0</td>\n",
       "      <td>28.0</td>\n",
       "      <td>IND</td>\n",
       "      <td>TPA</td>\n",
       "      <td>838</td>\n",
       "      <td>4.0</td>\n",
       "      <td>9.0</td>\n",
       "      <td>0</td>\n",
       "      <td>N</td>\n",
       "      <td>0</td>\n",
       "      <td>0.0</td>\n",
       "      <td>0.0</td>\n",
       "      <td>0.0</td>\n",
       "      <td>0.0</td>\n",
       "      <td>16.0</td>\n",
       "      <td>1</td>\n",
       "    </tr>\n",
       "    <tr>\n",
       "      <th>12</th>\n",
       "      <td>19</td>\n",
       "      <td>2008</td>\n",
       "      <td>1</td>\n",
       "      <td>3</td>\n",
       "      <td>4</td>\n",
       "      <td>1416.0</td>\n",
       "      <td>1325</td>\n",
       "      <td>1512.0</td>\n",
       "      <td>1435</td>\n",
       "      <td>WN</td>\n",
       "      <td>54</td>\n",
       "      <td>N643SW</td>\n",
       "      <td>56.0</td>\n",
       "      <td>70.0</td>\n",
       "      <td>49.0</td>\n",
       "      <td>37.0</td>\n",
       "      <td>51.0</td>\n",
       "      <td>ISP</td>\n",
       "      <td>BWI</td>\n",
       "      <td>220</td>\n",
       "      <td>2.0</td>\n",
       "      <td>5.0</td>\n",
       "      <td>0</td>\n",
       "      <td>N</td>\n",
       "      <td>0</td>\n",
       "      <td>12.0</td>\n",
       "      <td>0.0</td>\n",
       "      <td>0.0</td>\n",
       "      <td>0.0</td>\n",
       "      <td>25.0</td>\n",
       "      <td>1</td>\n",
       "    </tr>\n",
       "    <tr>\n",
       "      <th>13</th>\n",
       "      <td>21</td>\n",
       "      <td>2008</td>\n",
       "      <td>1</td>\n",
       "      <td>3</td>\n",
       "      <td>4</td>\n",
       "      <td>1657.0</td>\n",
       "      <td>1625</td>\n",
       "      <td>1754.0</td>\n",
       "      <td>1735</td>\n",
       "      <td>WN</td>\n",
       "      <td>623</td>\n",
       "      <td>N724SW</td>\n",
       "      <td>57.0</td>\n",
       "      <td>70.0</td>\n",
       "      <td>47.0</td>\n",
       "      <td>19.0</td>\n",
       "      <td>32.0</td>\n",
       "      <td>ISP</td>\n",
       "      <td>BWI</td>\n",
       "      <td>220</td>\n",
       "      <td>5.0</td>\n",
       "      <td>5.0</td>\n",
       "      <td>0</td>\n",
       "      <td>N</td>\n",
       "      <td>0</td>\n",
       "      <td>7.0</td>\n",
       "      <td>0.0</td>\n",
       "      <td>0.0</td>\n",
       "      <td>0.0</td>\n",
       "      <td>12.0</td>\n",
       "      <td>1</td>\n",
       "    </tr>\n",
       "    <tr>\n",
       "      <th>14</th>\n",
       "      <td>22</td>\n",
       "      <td>2008</td>\n",
       "      <td>1</td>\n",
       "      <td>3</td>\n",
       "      <td>4</td>\n",
       "      <td>1900.0</td>\n",
       "      <td>1840</td>\n",
       "      <td>1956.0</td>\n",
       "      <td>1950</td>\n",
       "      <td>WN</td>\n",
       "      <td>717</td>\n",
       "      <td>N786SW</td>\n",
       "      <td>56.0</td>\n",
       "      <td>70.0</td>\n",
       "      <td>49.0</td>\n",
       "      <td>6.0</td>\n",
       "      <td>20.0</td>\n",
       "      <td>ISP</td>\n",
       "      <td>BWI</td>\n",
       "      <td>220</td>\n",
       "      <td>2.0</td>\n",
       "      <td>5.0</td>\n",
       "      <td>0</td>\n",
       "      <td>N</td>\n",
       "      <td>0</td>\n",
       "      <td>NaN</td>\n",
       "      <td>NaN</td>\n",
       "      <td>NaN</td>\n",
       "      <td>NaN</td>\n",
       "      <td>NaN</td>\n",
       "      <td>1</td>\n",
       "    </tr>\n",
       "    <tr>\n",
       "      <th>15</th>\n",
       "      <td>23</td>\n",
       "      <td>2008</td>\n",
       "      <td>1</td>\n",
       "      <td>3</td>\n",
       "      <td>4</td>\n",
       "      <td>1039.0</td>\n",
       "      <td>1030</td>\n",
       "      <td>1133.0</td>\n",
       "      <td>1140</td>\n",
       "      <td>WN</td>\n",
       "      <td>1244</td>\n",
       "      <td>N714CB</td>\n",
       "      <td>54.0</td>\n",
       "      <td>70.0</td>\n",
       "      <td>47.0</td>\n",
       "      <td>-7.0</td>\n",
       "      <td>9.0</td>\n",
       "      <td>ISP</td>\n",
       "      <td>BWI</td>\n",
       "      <td>220</td>\n",
       "      <td>2.0</td>\n",
       "      <td>5.0</td>\n",
       "      <td>0</td>\n",
       "      <td>N</td>\n",
       "      <td>0</td>\n",
       "      <td>NaN</td>\n",
       "      <td>NaN</td>\n",
       "      <td>NaN</td>\n",
       "      <td>NaN</td>\n",
       "      <td>NaN</td>\n",
       "      <td>0</td>\n",
       "    </tr>\n",
       "    <tr>\n",
       "      <th>16</th>\n",
       "      <td>25</td>\n",
       "      <td>2008</td>\n",
       "      <td>1</td>\n",
       "      <td>3</td>\n",
       "      <td>4</td>\n",
       "      <td>1520.0</td>\n",
       "      <td>1455</td>\n",
       "      <td>1619.0</td>\n",
       "      <td>1605</td>\n",
       "      <td>WN</td>\n",
       "      <td>2553</td>\n",
       "      <td>N394SW</td>\n",
       "      <td>59.0</td>\n",
       "      <td>70.0</td>\n",
       "      <td>50.0</td>\n",
       "      <td>14.0</td>\n",
       "      <td>25.0</td>\n",
       "      <td>ISP</td>\n",
       "      <td>BWI</td>\n",
       "      <td>220</td>\n",
       "      <td>2.0</td>\n",
       "      <td>7.0</td>\n",
       "      <td>0</td>\n",
       "      <td>N</td>\n",
       "      <td>0</td>\n",
       "      <td>NaN</td>\n",
       "      <td>NaN</td>\n",
       "      <td>NaN</td>\n",
       "      <td>NaN</td>\n",
       "      <td>NaN</td>\n",
       "      <td>1</td>\n",
       "    </tr>\n",
       "    <tr>\n",
       "      <th>17</th>\n",
       "      <td>26</td>\n",
       "      <td>2008</td>\n",
       "      <td>1</td>\n",
       "      <td>3</td>\n",
       "      <td>4</td>\n",
       "      <td>1422.0</td>\n",
       "      <td>1255</td>\n",
       "      <td>1657.0</td>\n",
       "      <td>1610</td>\n",
       "      <td>WN</td>\n",
       "      <td>188</td>\n",
       "      <td>N215WN</td>\n",
       "      <td>155.0</td>\n",
       "      <td>195.0</td>\n",
       "      <td>143.0</td>\n",
       "      <td>47.0</td>\n",
       "      <td>87.0</td>\n",
       "      <td>ISP</td>\n",
       "      <td>FLL</td>\n",
       "      <td>1093</td>\n",
       "      <td>6.0</td>\n",
       "      <td>6.0</td>\n",
       "      <td>0</td>\n",
       "      <td>N</td>\n",
       "      <td>0</td>\n",
       "      <td>40.0</td>\n",
       "      <td>0.0</td>\n",
       "      <td>0.0</td>\n",
       "      <td>0.0</td>\n",
       "      <td>7.0</td>\n",
       "      <td>1</td>\n",
       "    </tr>\n",
       "    <tr>\n",
       "      <th>18</th>\n",
       "      <td>27</td>\n",
       "      <td>2008</td>\n",
       "      <td>1</td>\n",
       "      <td>3</td>\n",
       "      <td>4</td>\n",
       "      <td>1954.0</td>\n",
       "      <td>1925</td>\n",
       "      <td>2239.0</td>\n",
       "      <td>2235</td>\n",
       "      <td>WN</td>\n",
       "      <td>1754</td>\n",
       "      <td>N243WN</td>\n",
       "      <td>165.0</td>\n",
       "      <td>190.0</td>\n",
       "      <td>155.0</td>\n",
       "      <td>4.0</td>\n",
       "      <td>29.0</td>\n",
       "      <td>ISP</td>\n",
       "      <td>FLL</td>\n",
       "      <td>1093</td>\n",
       "      <td>3.0</td>\n",
       "      <td>7.0</td>\n",
       "      <td>0</td>\n",
       "      <td>N</td>\n",
       "      <td>0</td>\n",
       "      <td>NaN</td>\n",
       "      <td>NaN</td>\n",
       "      <td>NaN</td>\n",
       "      <td>NaN</td>\n",
       "      <td>NaN</td>\n",
       "      <td>1</td>\n",
       "    </tr>\n",
       "    <tr>\n",
       "      <th>19</th>\n",
       "      <td>30</td>\n",
       "      <td>2008</td>\n",
       "      <td>1</td>\n",
       "      <td>3</td>\n",
       "      <td>4</td>\n",
       "      <td>2107.0</td>\n",
       "      <td>1945</td>\n",
       "      <td>2334.0</td>\n",
       "      <td>2230</td>\n",
       "      <td>WN</td>\n",
       "      <td>362</td>\n",
       "      <td>N798SW</td>\n",
       "      <td>147.0</td>\n",
       "      <td>165.0</td>\n",
       "      <td>134.0</td>\n",
       "      <td>64.0</td>\n",
       "      <td>82.0</td>\n",
       "      <td>ISP</td>\n",
       "      <td>MCO</td>\n",
       "      <td>972</td>\n",
       "      <td>6.0</td>\n",
       "      <td>7.0</td>\n",
       "      <td>0</td>\n",
       "      <td>N</td>\n",
       "      <td>0</td>\n",
       "      <td>5.0</td>\n",
       "      <td>0.0</td>\n",
       "      <td>0.0</td>\n",
       "      <td>0.0</td>\n",
       "      <td>59.0</td>\n",
       "      <td>1</td>\n",
       "    </tr>\n",
       "  </tbody>\n",
       "</table>\n",
       "</div>"
      ],
      "text/plain": [
       "    Unnamed: 0  Year  Month  DayofMonth  DayOfWeek  DepTime  CRSDepTime  \\\n",
       "0            0  2008      1           3          4   2003.0        1955   \n",
       "1            1  2008      1           3          4    754.0         735   \n",
       "2            2  2008      1           3          4    628.0         620   \n",
       "3            4  2008      1           3          4   1829.0        1755   \n",
       "4            5  2008      1           3          4   1940.0        1915   \n",
       "5            6  2008      1           3          4   1937.0        1830   \n",
       "6           10  2008      1           3          4    706.0         700   \n",
       "7           11  2008      1           3          4   1644.0        1510   \n",
       "8           15  2008      1           3          4   1029.0        1020   \n",
       "9           16  2008      1           3          4   1452.0        1425   \n",
       "10          17  2008      1           3          4    754.0         745   \n",
       "11          18  2008      1           3          4   1323.0        1255   \n",
       "12          19  2008      1           3          4   1416.0        1325   \n",
       "13          21  2008      1           3          4   1657.0        1625   \n",
       "14          22  2008      1           3          4   1900.0        1840   \n",
       "15          23  2008      1           3          4   1039.0        1030   \n",
       "16          25  2008      1           3          4   1520.0        1455   \n",
       "17          26  2008      1           3          4   1422.0        1255   \n",
       "18          27  2008      1           3          4   1954.0        1925   \n",
       "19          30  2008      1           3          4   2107.0        1945   \n",
       "\n",
       "    ArrTime  CRSArrTime UniqueCarrier  FlightNum TailNum  ActualElapsedTime  \\\n",
       "0    2211.0        2225            WN        335  N712SW              128.0   \n",
       "1    1002.0        1000            WN       3231  N772SW              128.0   \n",
       "2     804.0         750            WN        448  N428WN               96.0   \n",
       "3    1959.0        1925            WN       3920  N464WN               90.0   \n",
       "4    2121.0        2110            WN        378  N726SW              101.0   \n",
       "5    2037.0        1940            WN        509  N763SW              240.0   \n",
       "6     916.0         915            WN        100  N690SW              130.0   \n",
       "7    1845.0        1725            WN       1333  N334SW              121.0   \n",
       "8    1021.0        1010            WN       2272  N263WN               52.0   \n",
       "9    1640.0        1625            WN        675  N286WN              228.0   \n",
       "10    940.0         955            WN       1144  N778SW              226.0   \n",
       "11   1526.0        1510            WN          4  N674AA              123.0   \n",
       "12   1512.0        1435            WN         54  N643SW               56.0   \n",
       "13   1754.0        1735            WN        623  N724SW               57.0   \n",
       "14   1956.0        1950            WN        717  N786SW               56.0   \n",
       "15   1133.0        1140            WN       1244  N714CB               54.0   \n",
       "16   1619.0        1605            WN       2553  N394SW               59.0   \n",
       "17   1657.0        1610            WN        188  N215WN              155.0   \n",
       "18   2239.0        2235            WN       1754  N243WN              165.0   \n",
       "19   2334.0        2230            WN        362  N798SW              147.0   \n",
       "\n",
       "    CRSElapsedTime  AirTime  ArrDelay  DepDelay Origin Dest  Distance  TaxiIn  \\\n",
       "0            150.0    116.0     -14.0       8.0    IAD  TPA       810     4.0   \n",
       "1            145.0    113.0       2.0      19.0    IAD  TPA       810     5.0   \n",
       "2             90.0     76.0      14.0       8.0    IND  BWI       515     3.0   \n",
       "3             90.0     77.0      34.0      34.0    IND  BWI       515     3.0   \n",
       "4            115.0     87.0      11.0      25.0    IND  JAX       688     4.0   \n",
       "5            250.0    230.0      57.0      67.0    IND  LAS      1591     3.0   \n",
       "6            135.0    106.0       1.0       6.0    IND  MCO       828     5.0   \n",
       "7            135.0    107.0      80.0      94.0    IND  MCO       828     6.0   \n",
       "8             50.0     37.0      11.0       9.0    IND  MDW       162     6.0   \n",
       "9            240.0    213.0      15.0      27.0    IND  PHX      1489     7.0   \n",
       "10           250.0    205.0     -15.0       9.0    IND  PHX      1489     5.0   \n",
       "11           135.0    110.0      16.0      28.0    IND  TPA       838     4.0   \n",
       "12            70.0     49.0      37.0      51.0    ISP  BWI       220     2.0   \n",
       "13            70.0     47.0      19.0      32.0    ISP  BWI       220     5.0   \n",
       "14            70.0     49.0       6.0      20.0    ISP  BWI       220     2.0   \n",
       "15            70.0     47.0      -7.0       9.0    ISP  BWI       220     2.0   \n",
       "16            70.0     50.0      14.0      25.0    ISP  BWI       220     2.0   \n",
       "17           195.0    143.0      47.0      87.0    ISP  FLL      1093     6.0   \n",
       "18           190.0    155.0       4.0      29.0    ISP  FLL      1093     3.0   \n",
       "19           165.0    134.0      64.0      82.0    ISP  MCO       972     6.0   \n",
       "\n",
       "    TaxiOut  Cancelled CancellationCode  Diverted  CarrierDelay  WeatherDelay  \\\n",
       "0       8.0          0                N         0           NaN           NaN   \n",
       "1      10.0          0                N         0           NaN           NaN   \n",
       "2      17.0          0                N         0           NaN           NaN   \n",
       "3      10.0          0                N         0           2.0           0.0   \n",
       "4      10.0          0                N         0           NaN           NaN   \n",
       "5       7.0          0                N         0          10.0           0.0   \n",
       "6      19.0          0                N         0           NaN           NaN   \n",
       "7       8.0          0                N         0           8.0           0.0   \n",
       "8       9.0          0                N         0           NaN           NaN   \n",
       "9       8.0          0                N         0           3.0           0.0   \n",
       "10     16.0          0                N         0           NaN           NaN   \n",
       "11      9.0          0                N         0           0.0           0.0   \n",
       "12      5.0          0                N         0          12.0           0.0   \n",
       "13      5.0          0                N         0           7.0           0.0   \n",
       "14      5.0          0                N         0           NaN           NaN   \n",
       "15      5.0          0                N         0           NaN           NaN   \n",
       "16      7.0          0                N         0           NaN           NaN   \n",
       "17      6.0          0                N         0          40.0           0.0   \n",
       "18      7.0          0                N         0           NaN           NaN   \n",
       "19      7.0          0                N         0           5.0           0.0   \n",
       "\n",
       "    NASDelay  SecurityDelay  LateAircraftDelay Delay  \n",
       "0        NaN            NaN                NaN     0  \n",
       "1        NaN            NaN                NaN     1  \n",
       "2        NaN            NaN                NaN     1  \n",
       "3        0.0            0.0               32.0     1  \n",
       "4        NaN            NaN                NaN     1  \n",
       "5        0.0            0.0               47.0     1  \n",
       "6        NaN            NaN                NaN     1  \n",
       "7        0.0            0.0               72.0     1  \n",
       "8        NaN            NaN                NaN     1  \n",
       "9        0.0            0.0               12.0     1  \n",
       "10       NaN            NaN                NaN     0  \n",
       "11       0.0            0.0               16.0     1  \n",
       "12       0.0            0.0               25.0     1  \n",
       "13       0.0            0.0               12.0     1  \n",
       "14       NaN            NaN                NaN     1  \n",
       "15       NaN            NaN                NaN     0  \n",
       "16       NaN            NaN                NaN     1  \n",
       "17       0.0            0.0                7.0     1  \n",
       "18       NaN            NaN                NaN     1  \n",
       "19       0.0            0.0               59.0     1  "
      ]
     },
     "execution_count": 8,
     "metadata": {},
     "output_type": "execute_result"
    }
   ],
   "source": [
    "#creem una columna nova \"Delay\" booleana, en funció de si hi ha hagut retard o no\n",
    "\n",
    "Delay = []\n",
    "for ArrDelay in data_frame[\"ArrDelay\"]:\n",
    "    if ArrDelay > 0.0:\n",
    "        Delay.append(\"1\")\n",
    "    else:\n",
    "        Delay.append(\"0\")\n",
    "data_frame[\"Delay\"] = Delay\n",
    "\n",
    "data_frame.head(20)"
   ]
  },
  {
   "cell_type": "code",
   "execution_count": 15,
   "id": "b264d60e",
   "metadata": {
    "ExecuteTime": {
     "end_time": "2022-06-03T09:45:08.993730Z",
     "start_time": "2022-06-03T09:45:08.884695Z"
    }
   },
   "outputs": [
    {
     "data": {
      "text/plain": [
       "1    0.889845\n",
       "0    0.110155\n",
       "Name: Delay, dtype: float64"
      ]
     },
     "execution_count": 15,
     "metadata": {},
     "output_type": "execute_result"
    }
   ],
   "source": [
    "data_frame.Delay.value_counts(normalize = True)"
   ]
  },
  {
   "cell_type": "code",
   "execution_count": 16,
   "id": "3aca77b3",
   "metadata": {
    "ExecuteTime": {
     "end_time": "2022-06-03T09:45:09.148893Z",
     "start_time": "2022-06-03T09:45:08.996725Z"
    }
   },
   "outputs": [],
   "source": [
    "#Observem que tenim una variable target molt imbalanced(descompensada), amb el que necessitarem aplicar alguna tècnica de sample per \n",
    "#balancejar les dades, això vol dir, que les dades presenten una distribució desigual de cada classe(en el nostre cas seria Delayed o no!)\n",
    "#això afectarà a les nostres prediccions que estarn marcades per un biaix important\n",
    "#utilitzaré la tècnica SMOTE(Synthetic Minority Over-Sampling Technique) to oversample the dataset: el que fa és analitzar l'espai de \n",
    "#característiques pels punts de dades de la classe menor i té en compte els seus veïns més propers"
   ]
  },
  {
   "cell_type": "code",
   "execution_count": 9,
   "id": "fe6725a7",
   "metadata": {
    "ExecuteTime": {
     "end_time": "2022-06-08T12:47:21.632832Z",
     "start_time": "2022-06-08T12:47:21.110145Z"
    }
   },
   "outputs": [
    {
     "data": {
      "text/html": [
       "<div>\n",
       "<style scoped>\n",
       "    .dataframe tbody tr th:only-of-type {\n",
       "        vertical-align: middle;\n",
       "    }\n",
       "\n",
       "    .dataframe tbody tr th {\n",
       "        vertical-align: top;\n",
       "    }\n",
       "\n",
       "    .dataframe thead th {\n",
       "        text-align: right;\n",
       "    }\n",
       "</style>\n",
       "<table border=\"1\" class=\"dataframe\">\n",
       "  <thead>\n",
       "    <tr style=\"text-align: right;\">\n",
       "      <th></th>\n",
       "      <th>Month</th>\n",
       "      <th>DayofMonth</th>\n",
       "      <th>DayOfWeek</th>\n",
       "      <th>DepTime</th>\n",
       "      <th>CRSDepTime</th>\n",
       "      <th>ArrTime</th>\n",
       "      <th>CRSArrTime</th>\n",
       "      <th>FlightNum</th>\n",
       "      <th>ActualElapsedTime</th>\n",
       "      <th>CRSElapsedTime</th>\n",
       "      <th>AirTime</th>\n",
       "      <th>ArrDelay</th>\n",
       "      <th>DepDelay</th>\n",
       "      <th>Distance</th>\n",
       "      <th>TaxiIn</th>\n",
       "      <th>TaxiOut</th>\n",
       "      <th>Cancelled</th>\n",
       "      <th>Diverted</th>\n",
       "      <th>CarrierDelay</th>\n",
       "      <th>WeatherDelay</th>\n",
       "      <th>NASDelay</th>\n",
       "      <th>SecurityDelay</th>\n",
       "      <th>LateAircraftDelay</th>\n",
       "      <th>Delay</th>\n",
       "    </tr>\n",
       "  </thead>\n",
       "  <tbody>\n",
       "    <tr>\n",
       "      <th>0</th>\n",
       "      <td>1</td>\n",
       "      <td>3</td>\n",
       "      <td>4</td>\n",
       "      <td>2003.0</td>\n",
       "      <td>1955</td>\n",
       "      <td>2211.0</td>\n",
       "      <td>2225</td>\n",
       "      <td>335</td>\n",
       "      <td>128.0</td>\n",
       "      <td>150.0</td>\n",
       "      <td>116.0</td>\n",
       "      <td>-14.0</td>\n",
       "      <td>8.0</td>\n",
       "      <td>810</td>\n",
       "      <td>4.0</td>\n",
       "      <td>8.0</td>\n",
       "      <td>0</td>\n",
       "      <td>0</td>\n",
       "      <td>NaN</td>\n",
       "      <td>NaN</td>\n",
       "      <td>NaN</td>\n",
       "      <td>NaN</td>\n",
       "      <td>NaN</td>\n",
       "      <td>0</td>\n",
       "    </tr>\n",
       "    <tr>\n",
       "      <th>1</th>\n",
       "      <td>1</td>\n",
       "      <td>3</td>\n",
       "      <td>4</td>\n",
       "      <td>754.0</td>\n",
       "      <td>735</td>\n",
       "      <td>1002.0</td>\n",
       "      <td>1000</td>\n",
       "      <td>3231</td>\n",
       "      <td>128.0</td>\n",
       "      <td>145.0</td>\n",
       "      <td>113.0</td>\n",
       "      <td>2.0</td>\n",
       "      <td>19.0</td>\n",
       "      <td>810</td>\n",
       "      <td>5.0</td>\n",
       "      <td>10.0</td>\n",
       "      <td>0</td>\n",
       "      <td>0</td>\n",
       "      <td>NaN</td>\n",
       "      <td>NaN</td>\n",
       "      <td>NaN</td>\n",
       "      <td>NaN</td>\n",
       "      <td>NaN</td>\n",
       "      <td>1</td>\n",
       "    </tr>\n",
       "    <tr>\n",
       "      <th>2</th>\n",
       "      <td>1</td>\n",
       "      <td>3</td>\n",
       "      <td>4</td>\n",
       "      <td>628.0</td>\n",
       "      <td>620</td>\n",
       "      <td>804.0</td>\n",
       "      <td>750</td>\n",
       "      <td>448</td>\n",
       "      <td>96.0</td>\n",
       "      <td>90.0</td>\n",
       "      <td>76.0</td>\n",
       "      <td>14.0</td>\n",
       "      <td>8.0</td>\n",
       "      <td>515</td>\n",
       "      <td>3.0</td>\n",
       "      <td>17.0</td>\n",
       "      <td>0</td>\n",
       "      <td>0</td>\n",
       "      <td>NaN</td>\n",
       "      <td>NaN</td>\n",
       "      <td>NaN</td>\n",
       "      <td>NaN</td>\n",
       "      <td>NaN</td>\n",
       "      <td>1</td>\n",
       "    </tr>\n",
       "    <tr>\n",
       "      <th>3</th>\n",
       "      <td>1</td>\n",
       "      <td>3</td>\n",
       "      <td>4</td>\n",
       "      <td>1829.0</td>\n",
       "      <td>1755</td>\n",
       "      <td>1959.0</td>\n",
       "      <td>1925</td>\n",
       "      <td>3920</td>\n",
       "      <td>90.0</td>\n",
       "      <td>90.0</td>\n",
       "      <td>77.0</td>\n",
       "      <td>34.0</td>\n",
       "      <td>34.0</td>\n",
       "      <td>515</td>\n",
       "      <td>3.0</td>\n",
       "      <td>10.0</td>\n",
       "      <td>0</td>\n",
       "      <td>0</td>\n",
       "      <td>2.0</td>\n",
       "      <td>0.0</td>\n",
       "      <td>0.0</td>\n",
       "      <td>0.0</td>\n",
       "      <td>32.0</td>\n",
       "      <td>1</td>\n",
       "    </tr>\n",
       "    <tr>\n",
       "      <th>4</th>\n",
       "      <td>1</td>\n",
       "      <td>3</td>\n",
       "      <td>4</td>\n",
       "      <td>1940.0</td>\n",
       "      <td>1915</td>\n",
       "      <td>2121.0</td>\n",
       "      <td>2110</td>\n",
       "      <td>378</td>\n",
       "      <td>101.0</td>\n",
       "      <td>115.0</td>\n",
       "      <td>87.0</td>\n",
       "      <td>11.0</td>\n",
       "      <td>25.0</td>\n",
       "      <td>688</td>\n",
       "      <td>4.0</td>\n",
       "      <td>10.0</td>\n",
       "      <td>0</td>\n",
       "      <td>0</td>\n",
       "      <td>NaN</td>\n",
       "      <td>NaN</td>\n",
       "      <td>NaN</td>\n",
       "      <td>NaN</td>\n",
       "      <td>NaN</td>\n",
       "      <td>1</td>\n",
       "    </tr>\n",
       "  </tbody>\n",
       "</table>\n",
       "</div>"
      ],
      "text/plain": [
       "   Month  DayofMonth  DayOfWeek  DepTime  CRSDepTime  ArrTime  CRSArrTime  \\\n",
       "0      1           3          4   2003.0        1955   2211.0        2225   \n",
       "1      1           3          4    754.0         735   1002.0        1000   \n",
       "2      1           3          4    628.0         620    804.0         750   \n",
       "3      1           3          4   1829.0        1755   1959.0        1925   \n",
       "4      1           3          4   1940.0        1915   2121.0        2110   \n",
       "\n",
       "   FlightNum  ActualElapsedTime  CRSElapsedTime  AirTime  ArrDelay  DepDelay  \\\n",
       "0        335              128.0           150.0    116.0     -14.0       8.0   \n",
       "1       3231              128.0           145.0    113.0       2.0      19.0   \n",
       "2        448               96.0            90.0     76.0      14.0       8.0   \n",
       "3       3920               90.0            90.0     77.0      34.0      34.0   \n",
       "4        378              101.0           115.0     87.0      11.0      25.0   \n",
       "\n",
       "   Distance  TaxiIn  TaxiOut  Cancelled  Diverted  CarrierDelay  WeatherDelay  \\\n",
       "0       810     4.0      8.0          0         0           NaN           NaN   \n",
       "1       810     5.0     10.0          0         0           NaN           NaN   \n",
       "2       515     3.0     17.0          0         0           NaN           NaN   \n",
       "3       515     3.0     10.0          0         0           2.0           0.0   \n",
       "4       688     4.0     10.0          0         0           NaN           NaN   \n",
       "\n",
       "   NASDelay  SecurityDelay  LateAircraftDelay Delay  \n",
       "0       NaN            NaN                NaN     0  \n",
       "1       NaN            NaN                NaN     1  \n",
       "2       NaN            NaN                NaN     1  \n",
       "3       0.0            0.0               32.0     1  \n",
       "4       NaN            NaN                NaN     1  "
      ]
     },
     "execution_count": 9,
     "metadata": {},
     "output_type": "execute_result"
    }
   ],
   "source": [
    "#abans de fer SMOTE eliminem les variables no numèriques de les nostres dades\n",
    "#o tb les podem transformar en dades numèriques amb getdummies però en aquest cas obtindrem un dataframe massa gran en \n",
    "#nombre de columnes, i no ens interessa per poder fer la nostra predicció\n",
    "data_frame.drop([\"Unnamed: 0\",\"Year\",\"UniqueCarrier\", \"TailNum\", \"Origin\", \"Dest\", \"CancellationCode\"], axis=1, inplace=True)\n",
    "data_frame.head()"
   ]
  },
  {
   "cell_type": "code",
   "execution_count": 18,
   "id": "c484b650",
   "metadata": {
    "ExecuteTime": {
     "end_time": "2022-06-03T09:45:09.762479Z",
     "start_time": "2022-06-03T09:45:09.572819Z"
    }
   },
   "outputs": [
    {
     "data": {
      "text/plain": [
       "Month                     0\n",
       "DayofMonth                0\n",
       "DayOfWeek                 0\n",
       "DepTime                   0\n",
       "CRSDepTime                0\n",
       "ArrTime                7110\n",
       "CRSArrTime                0\n",
       "FlightNum                 0\n",
       "ActualElapsedTime      8387\n",
       "CRSElapsedTime          198\n",
       "AirTime                8387\n",
       "ArrDelay               8387\n",
       "DepDelay                  0\n",
       "Distance                  0\n",
       "TaxiIn                 7110\n",
       "TaxiOut                 455\n",
       "Cancelled                 0\n",
       "Diverted                  0\n",
       "CarrierDelay         689270\n",
       "WeatherDelay         689270\n",
       "NASDelay             689270\n",
       "SecurityDelay        689270\n",
       "LateAircraftDelay    689270\n",
       "Delay                     0\n",
       "dtype: int64"
      ]
     },
     "execution_count": 18,
     "metadata": {},
     "output_type": "execute_result"
    }
   ],
   "source": [
    "#Comprovem valors nan i eliminem files on ArrDelay sigui nan ja que ArrDelay és la nostra variable target\n",
    "#també es podrien substituir per altres valors però per aquest exercici ja ens va bé eliminar-los\n",
    "data_frame.isna().sum()"
   ]
  },
  {
   "cell_type": "code",
   "execution_count": 10,
   "id": "3f2cc96f",
   "metadata": {
    "ExecuteTime": {
     "end_time": "2022-06-08T12:47:32.205902Z",
     "start_time": "2022-06-08T12:47:31.741127Z"
    }
   },
   "outputs": [
    {
     "data": {
      "text/html": [
       "<div>\n",
       "<style scoped>\n",
       "    .dataframe tbody tr th:only-of-type {\n",
       "        vertical-align: middle;\n",
       "    }\n",
       "\n",
       "    .dataframe tbody tr th {\n",
       "        vertical-align: top;\n",
       "    }\n",
       "\n",
       "    .dataframe thead th {\n",
       "        text-align: right;\n",
       "    }\n",
       "</style>\n",
       "<table border=\"1\" class=\"dataframe\">\n",
       "  <thead>\n",
       "    <tr style=\"text-align: right;\">\n",
       "      <th></th>\n",
       "      <th>Month</th>\n",
       "      <th>DayofMonth</th>\n",
       "      <th>DayOfWeek</th>\n",
       "      <th>DepTime</th>\n",
       "      <th>CRSDepTime</th>\n",
       "      <th>ArrTime</th>\n",
       "      <th>CRSArrTime</th>\n",
       "      <th>FlightNum</th>\n",
       "      <th>ActualElapsedTime</th>\n",
       "      <th>CRSElapsedTime</th>\n",
       "      <th>AirTime</th>\n",
       "      <th>ArrDelay</th>\n",
       "      <th>DepDelay</th>\n",
       "      <th>Distance</th>\n",
       "      <th>TaxiIn</th>\n",
       "      <th>TaxiOut</th>\n",
       "      <th>Cancelled</th>\n",
       "      <th>Diverted</th>\n",
       "      <th>CarrierDelay</th>\n",
       "      <th>WeatherDelay</th>\n",
       "      <th>NASDelay</th>\n",
       "      <th>SecurityDelay</th>\n",
       "      <th>LateAircraftDelay</th>\n",
       "      <th>Delay</th>\n",
       "    </tr>\n",
       "  </thead>\n",
       "  <tbody>\n",
       "    <tr>\n",
       "      <th>0</th>\n",
       "      <td>1</td>\n",
       "      <td>3</td>\n",
       "      <td>4</td>\n",
       "      <td>2003.0</td>\n",
       "      <td>1955</td>\n",
       "      <td>2211.0</td>\n",
       "      <td>2225</td>\n",
       "      <td>335</td>\n",
       "      <td>128.0</td>\n",
       "      <td>150.0</td>\n",
       "      <td>116.0</td>\n",
       "      <td>-14.0</td>\n",
       "      <td>8.0</td>\n",
       "      <td>810</td>\n",
       "      <td>4.0</td>\n",
       "      <td>8.0</td>\n",
       "      <td>0</td>\n",
       "      <td>0</td>\n",
       "      <td>NaN</td>\n",
       "      <td>NaN</td>\n",
       "      <td>NaN</td>\n",
       "      <td>NaN</td>\n",
       "      <td>NaN</td>\n",
       "      <td>0</td>\n",
       "    </tr>\n",
       "    <tr>\n",
       "      <th>1</th>\n",
       "      <td>1</td>\n",
       "      <td>3</td>\n",
       "      <td>4</td>\n",
       "      <td>754.0</td>\n",
       "      <td>735</td>\n",
       "      <td>1002.0</td>\n",
       "      <td>1000</td>\n",
       "      <td>3231</td>\n",
       "      <td>128.0</td>\n",
       "      <td>145.0</td>\n",
       "      <td>113.0</td>\n",
       "      <td>2.0</td>\n",
       "      <td>19.0</td>\n",
       "      <td>810</td>\n",
       "      <td>5.0</td>\n",
       "      <td>10.0</td>\n",
       "      <td>0</td>\n",
       "      <td>0</td>\n",
       "      <td>NaN</td>\n",
       "      <td>NaN</td>\n",
       "      <td>NaN</td>\n",
       "      <td>NaN</td>\n",
       "      <td>NaN</td>\n",
       "      <td>1</td>\n",
       "    </tr>\n",
       "    <tr>\n",
       "      <th>2</th>\n",
       "      <td>1</td>\n",
       "      <td>3</td>\n",
       "      <td>4</td>\n",
       "      <td>628.0</td>\n",
       "      <td>620</td>\n",
       "      <td>804.0</td>\n",
       "      <td>750</td>\n",
       "      <td>448</td>\n",
       "      <td>96.0</td>\n",
       "      <td>90.0</td>\n",
       "      <td>76.0</td>\n",
       "      <td>14.0</td>\n",
       "      <td>8.0</td>\n",
       "      <td>515</td>\n",
       "      <td>3.0</td>\n",
       "      <td>17.0</td>\n",
       "      <td>0</td>\n",
       "      <td>0</td>\n",
       "      <td>NaN</td>\n",
       "      <td>NaN</td>\n",
       "      <td>NaN</td>\n",
       "      <td>NaN</td>\n",
       "      <td>NaN</td>\n",
       "      <td>1</td>\n",
       "    </tr>\n",
       "    <tr>\n",
       "      <th>3</th>\n",
       "      <td>1</td>\n",
       "      <td>3</td>\n",
       "      <td>4</td>\n",
       "      <td>1829.0</td>\n",
       "      <td>1755</td>\n",
       "      <td>1959.0</td>\n",
       "      <td>1925</td>\n",
       "      <td>3920</td>\n",
       "      <td>90.0</td>\n",
       "      <td>90.0</td>\n",
       "      <td>77.0</td>\n",
       "      <td>34.0</td>\n",
       "      <td>34.0</td>\n",
       "      <td>515</td>\n",
       "      <td>3.0</td>\n",
       "      <td>10.0</td>\n",
       "      <td>0</td>\n",
       "      <td>0</td>\n",
       "      <td>2.0</td>\n",
       "      <td>0.0</td>\n",
       "      <td>0.0</td>\n",
       "      <td>0.0</td>\n",
       "      <td>32.0</td>\n",
       "      <td>1</td>\n",
       "    </tr>\n",
       "    <tr>\n",
       "      <th>4</th>\n",
       "      <td>1</td>\n",
       "      <td>3</td>\n",
       "      <td>4</td>\n",
       "      <td>1940.0</td>\n",
       "      <td>1915</td>\n",
       "      <td>2121.0</td>\n",
       "      <td>2110</td>\n",
       "      <td>378</td>\n",
       "      <td>101.0</td>\n",
       "      <td>115.0</td>\n",
       "      <td>87.0</td>\n",
       "      <td>11.0</td>\n",
       "      <td>25.0</td>\n",
       "      <td>688</td>\n",
       "      <td>4.0</td>\n",
       "      <td>10.0</td>\n",
       "      <td>0</td>\n",
       "      <td>0</td>\n",
       "      <td>NaN</td>\n",
       "      <td>NaN</td>\n",
       "      <td>NaN</td>\n",
       "      <td>NaN</td>\n",
       "      <td>NaN</td>\n",
       "      <td>1</td>\n",
       "    </tr>\n",
       "  </tbody>\n",
       "</table>\n",
       "</div>"
      ],
      "text/plain": [
       "   Month  DayofMonth  DayOfWeek  DepTime  CRSDepTime  ArrTime  CRSArrTime  \\\n",
       "0      1           3          4   2003.0        1955   2211.0        2225   \n",
       "1      1           3          4    754.0         735   1002.0        1000   \n",
       "2      1           3          4    628.0         620    804.0         750   \n",
       "3      1           3          4   1829.0        1755   1959.0        1925   \n",
       "4      1           3          4   1940.0        1915   2121.0        2110   \n",
       "\n",
       "   FlightNum  ActualElapsedTime  CRSElapsedTime  AirTime  ArrDelay  DepDelay  \\\n",
       "0        335              128.0           150.0    116.0     -14.0       8.0   \n",
       "1       3231              128.0           145.0    113.0       2.0      19.0   \n",
       "2        448               96.0            90.0     76.0      14.0       8.0   \n",
       "3       3920               90.0            90.0     77.0      34.0      34.0   \n",
       "4        378              101.0           115.0     87.0      11.0      25.0   \n",
       "\n",
       "   Distance  TaxiIn  TaxiOut  Cancelled  Diverted  CarrierDelay  WeatherDelay  \\\n",
       "0       810     4.0      8.0          0         0           NaN           NaN   \n",
       "1       810     5.0     10.0          0         0           NaN           NaN   \n",
       "2       515     3.0     17.0          0         0           NaN           NaN   \n",
       "3       515     3.0     10.0          0         0           2.0           0.0   \n",
       "4       688     4.0     10.0          0         0           NaN           NaN   \n",
       "\n",
       "   NASDelay  SecurityDelay  LateAircraftDelay Delay  \n",
       "0       NaN            NaN                NaN     0  \n",
       "1       NaN            NaN                NaN     1  \n",
       "2       NaN            NaN                NaN     1  \n",
       "3       0.0            0.0               32.0     1  \n",
       "4       NaN            NaN                NaN     1  "
      ]
     },
     "execution_count": 10,
     "metadata": {},
     "output_type": "execute_result"
    }
   ],
   "source": [
    "data_frame.dropna(subset = [\"ArrDelay\"], inplace = True)\n",
    "data_frame.head()"
   ]
  },
  {
   "cell_type": "code",
   "execution_count": 20,
   "id": "a732c153",
   "metadata": {
    "ExecuteTime": {
     "end_time": "2022-06-03T09:45:10.327439Z",
     "start_time": "2022-06-03T09:45:10.155180Z"
    }
   },
   "outputs": [
    {
     "data": {
      "text/plain": [
       "Month                     0\n",
       "DayofMonth                0\n",
       "DayOfWeek                 0\n",
       "DepTime                   0\n",
       "CRSDepTime                0\n",
       "ArrTime                   0\n",
       "CRSArrTime                0\n",
       "FlightNum                 0\n",
       "ActualElapsedTime         0\n",
       "CRSElapsedTime            0\n",
       "AirTime                   0\n",
       "ArrDelay                  0\n",
       "DepDelay                  0\n",
       "Distance                  0\n",
       "TaxiIn                    0\n",
       "TaxiOut                   0\n",
       "Cancelled                 0\n",
       "Diverted                  0\n",
       "CarrierDelay         680883\n",
       "WeatherDelay         680883\n",
       "NASDelay             680883\n",
       "SecurityDelay        680883\n",
       "LateAircraftDelay    680883\n",
       "Delay                     0\n",
       "dtype: int64"
      ]
     },
     "execution_count": 20,
     "metadata": {},
     "output_type": "execute_result"
    }
   ],
   "source": [
    "#comprovem que ja no tenim valors nan en ArrDelay\n",
    "data_frame.isna().sum()"
   ]
  },
  {
   "cell_type": "code",
   "execution_count": 11,
   "id": "6f58fb8d",
   "metadata": {
    "ExecuteTime": {
     "end_time": "2022-06-08T12:47:40.900830Z",
     "start_time": "2022-06-08T12:47:40.882879Z"
    }
   },
   "outputs": [
    {
     "data": {
      "text/plain": [
       "(1928371, 24)"
      ]
     },
     "execution_count": 11,
     "metadata": {},
     "output_type": "execute_result"
    }
   ],
   "source": [
    "data_frame.shape"
   ]
  },
  {
   "cell_type": "code",
   "execution_count": 12,
   "id": "48cd713a",
   "metadata": {
    "ExecuteTime": {
     "end_time": "2022-06-08T12:47:46.542870Z",
     "start_time": "2022-06-08T12:47:46.249653Z"
    }
   },
   "outputs": [
    {
     "data": {
      "text/html": [
       "<div>\n",
       "<style scoped>\n",
       "    .dataframe tbody tr th:only-of-type {\n",
       "        vertical-align: middle;\n",
       "    }\n",
       "\n",
       "    .dataframe tbody tr th {\n",
       "        vertical-align: top;\n",
       "    }\n",
       "\n",
       "    .dataframe thead th {\n",
       "        text-align: right;\n",
       "    }\n",
       "</style>\n",
       "<table border=\"1\" class=\"dataframe\">\n",
       "  <thead>\n",
       "    <tr style=\"text-align: right;\">\n",
       "      <th></th>\n",
       "      <th>Month</th>\n",
       "      <th>DayofMonth</th>\n",
       "      <th>DayOfWeek</th>\n",
       "      <th>DepTime</th>\n",
       "      <th>CRSDepTime</th>\n",
       "      <th>ArrTime</th>\n",
       "      <th>CRSArrTime</th>\n",
       "      <th>FlightNum</th>\n",
       "      <th>ActualElapsedTime</th>\n",
       "      <th>CRSElapsedTime</th>\n",
       "      <th>AirTime</th>\n",
       "      <th>ArrDelay</th>\n",
       "      <th>DepDelay</th>\n",
       "      <th>Distance</th>\n",
       "      <th>TaxiIn</th>\n",
       "      <th>TaxiOut</th>\n",
       "      <th>Cancelled</th>\n",
       "      <th>Diverted</th>\n",
       "      <th>Delay</th>\n",
       "    </tr>\n",
       "  </thead>\n",
       "  <tbody>\n",
       "    <tr>\n",
       "      <th>0</th>\n",
       "      <td>1</td>\n",
       "      <td>3</td>\n",
       "      <td>4</td>\n",
       "      <td>2003.0</td>\n",
       "      <td>1955</td>\n",
       "      <td>2211.0</td>\n",
       "      <td>2225</td>\n",
       "      <td>335</td>\n",
       "      <td>128.0</td>\n",
       "      <td>150.0</td>\n",
       "      <td>116.0</td>\n",
       "      <td>-14.0</td>\n",
       "      <td>8.0</td>\n",
       "      <td>810</td>\n",
       "      <td>4.0</td>\n",
       "      <td>8.0</td>\n",
       "      <td>0</td>\n",
       "      <td>0</td>\n",
       "      <td>0</td>\n",
       "    </tr>\n",
       "    <tr>\n",
       "      <th>1</th>\n",
       "      <td>1</td>\n",
       "      <td>3</td>\n",
       "      <td>4</td>\n",
       "      <td>754.0</td>\n",
       "      <td>735</td>\n",
       "      <td>1002.0</td>\n",
       "      <td>1000</td>\n",
       "      <td>3231</td>\n",
       "      <td>128.0</td>\n",
       "      <td>145.0</td>\n",
       "      <td>113.0</td>\n",
       "      <td>2.0</td>\n",
       "      <td>19.0</td>\n",
       "      <td>810</td>\n",
       "      <td>5.0</td>\n",
       "      <td>10.0</td>\n",
       "      <td>0</td>\n",
       "      <td>0</td>\n",
       "      <td>1</td>\n",
       "    </tr>\n",
       "    <tr>\n",
       "      <th>2</th>\n",
       "      <td>1</td>\n",
       "      <td>3</td>\n",
       "      <td>4</td>\n",
       "      <td>628.0</td>\n",
       "      <td>620</td>\n",
       "      <td>804.0</td>\n",
       "      <td>750</td>\n",
       "      <td>448</td>\n",
       "      <td>96.0</td>\n",
       "      <td>90.0</td>\n",
       "      <td>76.0</td>\n",
       "      <td>14.0</td>\n",
       "      <td>8.0</td>\n",
       "      <td>515</td>\n",
       "      <td>3.0</td>\n",
       "      <td>17.0</td>\n",
       "      <td>0</td>\n",
       "      <td>0</td>\n",
       "      <td>1</td>\n",
       "    </tr>\n",
       "    <tr>\n",
       "      <th>3</th>\n",
       "      <td>1</td>\n",
       "      <td>3</td>\n",
       "      <td>4</td>\n",
       "      <td>1829.0</td>\n",
       "      <td>1755</td>\n",
       "      <td>1959.0</td>\n",
       "      <td>1925</td>\n",
       "      <td>3920</td>\n",
       "      <td>90.0</td>\n",
       "      <td>90.0</td>\n",
       "      <td>77.0</td>\n",
       "      <td>34.0</td>\n",
       "      <td>34.0</td>\n",
       "      <td>515</td>\n",
       "      <td>3.0</td>\n",
       "      <td>10.0</td>\n",
       "      <td>0</td>\n",
       "      <td>0</td>\n",
       "      <td>1</td>\n",
       "    </tr>\n",
       "    <tr>\n",
       "      <th>4</th>\n",
       "      <td>1</td>\n",
       "      <td>3</td>\n",
       "      <td>4</td>\n",
       "      <td>1940.0</td>\n",
       "      <td>1915</td>\n",
       "      <td>2121.0</td>\n",
       "      <td>2110</td>\n",
       "      <td>378</td>\n",
       "      <td>101.0</td>\n",
       "      <td>115.0</td>\n",
       "      <td>87.0</td>\n",
       "      <td>11.0</td>\n",
       "      <td>25.0</td>\n",
       "      <td>688</td>\n",
       "      <td>4.0</td>\n",
       "      <td>10.0</td>\n",
       "      <td>0</td>\n",
       "      <td>0</td>\n",
       "      <td>1</td>\n",
       "    </tr>\n",
       "  </tbody>\n",
       "</table>\n",
       "</div>"
      ],
      "text/plain": [
       "   Month  DayofMonth  DayOfWeek  DepTime  CRSDepTime  ArrTime  CRSArrTime  \\\n",
       "0      1           3          4   2003.0        1955   2211.0        2225   \n",
       "1      1           3          4    754.0         735   1002.0        1000   \n",
       "2      1           3          4    628.0         620    804.0         750   \n",
       "3      1           3          4   1829.0        1755   1959.0        1925   \n",
       "4      1           3          4   1940.0        1915   2121.0        2110   \n",
       "\n",
       "   FlightNum  ActualElapsedTime  CRSElapsedTime  AirTime  ArrDelay  DepDelay  \\\n",
       "0        335              128.0           150.0    116.0     -14.0       8.0   \n",
       "1       3231              128.0           145.0    113.0       2.0      19.0   \n",
       "2        448               96.0            90.0     76.0      14.0       8.0   \n",
       "3       3920               90.0            90.0     77.0      34.0      34.0   \n",
       "4        378              101.0           115.0     87.0      11.0      25.0   \n",
       "\n",
       "   Distance  TaxiIn  TaxiOut  Cancelled  Diverted Delay  \n",
       "0       810     4.0      8.0          0         0     0  \n",
       "1       810     5.0     10.0          0         0     1  \n",
       "2       515     3.0     17.0          0         0     1  \n",
       "3       515     3.0     10.0          0         0     1  \n",
       "4       688     4.0     10.0          0         0     1  "
      ]
     },
     "execution_count": 12,
     "metadata": {},
     "output_type": "execute_result"
    }
   ],
   "source": [
    "# Com que el mètode SMOTE dona error si hi ha atributs amb nan values, abans haurem de tractar els atributs \"CarrierDelay\", \n",
    "#\"WeatherDelay\",\"NASDelay\", \"SecurityDelay\", \"LateAircraftDelay\" q presenten encara nan values. \n",
    "#Eliminarem aquestes columnes, tot i que amb més temps podriem tractar-les d'alguna manera per evitar perdre les dades \n",
    "#que potser d'alguna manera ens faran variar la nostra predicció!\n",
    "\n",
    "data_frame.drop([\"CarrierDelay\", \"WeatherDelay\",\"NASDelay\",\"SecurityDelay\",\"LateAircraftDelay\"], axis=1, inplace=True)\n",
    "data_frame.head()"
   ]
  },
  {
   "cell_type": "code",
   "execution_count": 13,
   "id": "473db260",
   "metadata": {
    "ExecuteTime": {
     "end_time": "2022-06-08T12:47:50.736282Z",
     "start_time": "2022-06-08T12:47:50.717208Z"
    }
   },
   "outputs": [
    {
     "data": {
      "text/plain": [
       "(1928371, 19)"
      ]
     },
     "execution_count": 13,
     "metadata": {},
     "output_type": "execute_result"
    }
   ],
   "source": [
    "data_frame.shape"
   ]
  },
  {
   "cell_type": "markdown",
   "id": "dbc73581",
   "metadata": {},
   "source": [
    "#Abans de fer SMOTE, com que tenim moltes dades, agafarem una mostra simple, ja que al fer SMOTE l'oversampling farà que tinguem encara més dades, i ja està trigant massa temps en realitzar càlculs. Així reduïm nombre de dades i poedem reduir temps de càlculs..."
   ]
  },
  {
   "cell_type": "code",
   "execution_count": 14,
   "id": "a73d04d4",
   "metadata": {
    "ExecuteTime": {
     "end_time": "2022-06-08T12:47:55.323014Z",
     "start_time": "2022-06-08T12:47:54.814784Z"
    }
   },
   "outputs": [
    {
     "data": {
      "text/plain": [
       "(482093, 19)"
      ]
     },
     "execution_count": 14,
     "metadata": {},
     "output_type": "execute_result"
    }
   ],
   "source": [
    "data_frame_sample = data_frame.sample(frac=0.25,random_state=4)\n",
    "data_frame_sample.shape"
   ]
  },
  {
   "cell_type": "code",
   "execution_count": 25,
   "id": "6f325b28",
   "metadata": {
    "ExecuteTime": {
     "end_time": "2022-06-03T09:45:11.366019Z",
     "start_time": "2022-06-03T09:45:11.336097Z"
    }
   },
   "outputs": [
    {
     "data": {
      "text/html": [
       "<div>\n",
       "<style scoped>\n",
       "    .dataframe tbody tr th:only-of-type {\n",
       "        vertical-align: middle;\n",
       "    }\n",
       "\n",
       "    .dataframe tbody tr th {\n",
       "        vertical-align: top;\n",
       "    }\n",
       "\n",
       "    .dataframe thead th {\n",
       "        text-align: right;\n",
       "    }\n",
       "</style>\n",
       "<table border=\"1\" class=\"dataframe\">\n",
       "  <thead>\n",
       "    <tr style=\"text-align: right;\">\n",
       "      <th></th>\n",
       "      <th>Month</th>\n",
       "      <th>DayofMonth</th>\n",
       "      <th>DayOfWeek</th>\n",
       "      <th>DepTime</th>\n",
       "      <th>CRSDepTime</th>\n",
       "      <th>ArrTime</th>\n",
       "      <th>CRSArrTime</th>\n",
       "      <th>FlightNum</th>\n",
       "      <th>ActualElapsedTime</th>\n",
       "      <th>CRSElapsedTime</th>\n",
       "      <th>AirTime</th>\n",
       "      <th>ArrDelay</th>\n",
       "      <th>DepDelay</th>\n",
       "      <th>Distance</th>\n",
       "      <th>TaxiIn</th>\n",
       "      <th>TaxiOut</th>\n",
       "      <th>Cancelled</th>\n",
       "      <th>Diverted</th>\n",
       "      <th>Delay</th>\n",
       "    </tr>\n",
       "  </thead>\n",
       "  <tbody>\n",
       "    <tr>\n",
       "      <th>578340</th>\n",
       "      <td>4</td>\n",
       "      <td>6</td>\n",
       "      <td>7</td>\n",
       "      <td>1549.0</td>\n",
       "      <td>1540</td>\n",
       "      <td>1723.0</td>\n",
       "      <td>1655</td>\n",
       "      <td>2375</td>\n",
       "      <td>94.0</td>\n",
       "      <td>75.0</td>\n",
       "      <td>55.0</td>\n",
       "      <td>28.0</td>\n",
       "      <td>9.0</td>\n",
       "      <td>267</td>\n",
       "      <td>9.0</td>\n",
       "      <td>30.0</td>\n",
       "      <td>0</td>\n",
       "      <td>0</td>\n",
       "      <td>1</td>\n",
       "    </tr>\n",
       "    <tr>\n",
       "      <th>1419494</th>\n",
       "      <td>8</td>\n",
       "      <td>7</td>\n",
       "      <td>4</td>\n",
       "      <td>1135.0</td>\n",
       "      <td>1125</td>\n",
       "      <td>1456.0</td>\n",
       "      <td>1445</td>\n",
       "      <td>34</td>\n",
       "      <td>141.0</td>\n",
       "      <td>140.0</td>\n",
       "      <td>116.0</td>\n",
       "      <td>11.0</td>\n",
       "      <td>10.0</td>\n",
       "      <td>861</td>\n",
       "      <td>12.0</td>\n",
       "      <td>13.0</td>\n",
       "      <td>0</td>\n",
       "      <td>0</td>\n",
       "      <td>1</td>\n",
       "    </tr>\n",
       "    <tr>\n",
       "      <th>1529711</th>\n",
       "      <td>10</td>\n",
       "      <td>11</td>\n",
       "      <td>6</td>\n",
       "      <td>837.0</td>\n",
       "      <td>830</td>\n",
       "      <td>844.0</td>\n",
       "      <td>845</td>\n",
       "      <td>1973</td>\n",
       "      <td>67.0</td>\n",
       "      <td>75.0</td>\n",
       "      <td>53.0</td>\n",
       "      <td>-1.0</td>\n",
       "      <td>7.0</td>\n",
       "      <td>358</td>\n",
       "      <td>7.0</td>\n",
       "      <td>7.0</td>\n",
       "      <td>0</td>\n",
       "      <td>0</td>\n",
       "      <td>0</td>\n",
       "    </tr>\n",
       "    <tr>\n",
       "      <th>1690918</th>\n",
       "      <td>11</td>\n",
       "      <td>22</td>\n",
       "      <td>6</td>\n",
       "      <td>2248.0</td>\n",
       "      <td>2135</td>\n",
       "      <td>17.0</td>\n",
       "      <td>2307</td>\n",
       "      <td>221</td>\n",
       "      <td>149.0</td>\n",
       "      <td>152.0</td>\n",
       "      <td>133.0</td>\n",
       "      <td>70.0</td>\n",
       "      <td>73.0</td>\n",
       "      <td>910</td>\n",
       "      <td>7.0</td>\n",
       "      <td>9.0</td>\n",
       "      <td>0</td>\n",
       "      <td>0</td>\n",
       "      <td>1</td>\n",
       "    </tr>\n",
       "    <tr>\n",
       "      <th>543938</th>\n",
       "      <td>3</td>\n",
       "      <td>12</td>\n",
       "      <td>3</td>\n",
       "      <td>1141.0</td>\n",
       "      <td>1135</td>\n",
       "      <td>1231.0</td>\n",
       "      <td>1235</td>\n",
       "      <td>1938</td>\n",
       "      <td>50.0</td>\n",
       "      <td>60.0</td>\n",
       "      <td>37.0</td>\n",
       "      <td>-4.0</td>\n",
       "      <td>6.0</td>\n",
       "      <td>204</td>\n",
       "      <td>3.0</td>\n",
       "      <td>10.0</td>\n",
       "      <td>0</td>\n",
       "      <td>0</td>\n",
       "      <td>0</td>\n",
       "    </tr>\n",
       "  </tbody>\n",
       "</table>\n",
       "</div>"
      ],
      "text/plain": [
       "         Month  DayofMonth  DayOfWeek  DepTime  CRSDepTime  ArrTime  \\\n",
       "578340       4           6          7   1549.0        1540   1723.0   \n",
       "1419494      8           7          4   1135.0        1125   1456.0   \n",
       "1529711     10          11          6    837.0         830    844.0   \n",
       "1690918     11          22          6   2248.0        2135     17.0   \n",
       "543938       3          12          3   1141.0        1135   1231.0   \n",
       "\n",
       "         CRSArrTime  FlightNum  ActualElapsedTime  CRSElapsedTime  AirTime  \\\n",
       "578340         1655       2375               94.0            75.0     55.0   \n",
       "1419494        1445         34              141.0           140.0    116.0   \n",
       "1529711         845       1973               67.0            75.0     53.0   \n",
       "1690918        2307        221              149.0           152.0    133.0   \n",
       "543938         1235       1938               50.0            60.0     37.0   \n",
       "\n",
       "         ArrDelay  DepDelay  Distance  TaxiIn  TaxiOut  Cancelled  Diverted  \\\n",
       "578340       28.0       9.0       267     9.0     30.0          0         0   \n",
       "1419494      11.0      10.0       861    12.0     13.0          0         0   \n",
       "1529711      -1.0       7.0       358     7.0      7.0          0         0   \n",
       "1690918      70.0      73.0       910     7.0      9.0          0         0   \n",
       "543938       -4.0       6.0       204     3.0     10.0          0         0   \n",
       "\n",
       "        Delay  \n",
       "578340      1  \n",
       "1419494     1  \n",
       "1529711     0  \n",
       "1690918     1  \n",
       "543938      0  "
      ]
     },
     "execution_count": 25,
     "metadata": {},
     "output_type": "execute_result"
    }
   ],
   "source": [
    "data_frame_sample.head()"
   ]
  },
  {
   "cell_type": "code",
   "execution_count": 15,
   "id": "07b86674",
   "metadata": {
    "ExecuteTime": {
     "end_time": "2022-06-08T12:48:02.389578Z",
     "start_time": "2022-06-08T12:48:02.236529Z"
    }
   },
   "outputs": [
    {
     "data": {
      "text/plain": [
       "1    0.894056\n",
       "0    0.105944\n",
       "Name: Delay, dtype: float64"
      ]
     },
     "execution_count": 15,
     "metadata": {},
     "output_type": "execute_result"
    }
   ],
   "source": [
    "#comprovem que seguim tenint aprox el mateix desbalanceig, és a dir podem treballar amb la mostra\n",
    "data_frame_sample.Delay.value_counts(normalize = True)"
   ]
  },
  {
   "cell_type": "code",
   "execution_count": null,
   "id": "0d9ec78d",
   "metadata": {
    "ExecuteTime": {
     "end_time": "2022-06-08T12:49:03.938918Z",
     "start_time": "2022-06-08T12:48:10.619238Z"
    }
   },
   "outputs": [],
   "source": [
    "#ara ja podem fer el mostreig aleatori i SMOTE\n",
    "\n",
    "from imblearn.over_sampling import SMOTE\n",
    "\n",
    "#en el nostre cas, el target ja em comentat que és la Classe Delay que hem creat\n",
    "#fem split test-train\n",
    "\n",
    "X = data_frame_sample.drop([\"Delay\"], axis=1)\n",
    "y = data_frame_sample[\"Delay\"]\n",
    "\n",
    "X_train, X_test, y_train, y_test = train_test_split(X, y, test_size=0.25, random_state=7)\n",
    "\n",
    "sm = SMOTE(sampling_strategy = \"auto\", random_state=7)\n",
    "\n",
    "# Fit the model to generate the data\n",
    "sm_X_train, sm_y_train = sm.fit_resample(X_train, y_train)"
   ]
  },
  {
   "cell_type": "code",
   "execution_count": 167,
   "id": "62296a82",
   "metadata": {
    "ExecuteTime": {
     "end_time": "2022-06-08T11:30:02.739991Z",
     "start_time": "2022-06-08T11:30:02.453198Z"
    }
   },
   "outputs": [
    {
     "data": {
      "text/plain": [
       "(646930, 18)"
      ]
     },
     "execution_count": 167,
     "metadata": {},
     "output_type": "execute_result"
    }
   ],
   "source": [
    "sm_X_train.shape"
   ]
  },
  {
   "cell_type": "code",
   "execution_count": 168,
   "id": "14eaa8e4",
   "metadata": {
    "ExecuteTime": {
     "end_time": "2022-06-08T11:30:06.245424Z",
     "start_time": "2022-06-08T11:30:06.233425Z"
    }
   },
   "outputs": [
    {
     "data": {
      "text/plain": [
       "(646930,)"
      ]
     },
     "execution_count": 168,
     "metadata": {},
     "output_type": "execute_result"
    }
   ],
   "source": [
    "sm_y_train.shape"
   ]
  },
  {
   "cell_type": "code",
   "execution_count": 169,
   "id": "d5e44a66",
   "metadata": {
    "ExecuteTime": {
     "end_time": "2022-06-08T11:30:11.976103Z",
     "start_time": "2022-06-08T11:30:11.397141Z"
    },
    "scrolled": true
   },
   "outputs": [
    {
     "data": {
      "text/html": [
       "<div>\n",
       "<style scoped>\n",
       "    .dataframe tbody tr th:only-of-type {\n",
       "        vertical-align: middle;\n",
       "    }\n",
       "\n",
       "    .dataframe tbody tr th {\n",
       "        vertical-align: top;\n",
       "    }\n",
       "\n",
       "    .dataframe thead th {\n",
       "        text-align: right;\n",
       "    }\n",
       "</style>\n",
       "<table border=\"1\" class=\"dataframe\">\n",
       "  <thead>\n",
       "    <tr style=\"text-align: right;\">\n",
       "      <th></th>\n",
       "      <th>Delay</th>\n",
       "      <th>Month</th>\n",
       "      <th>DayofMonth</th>\n",
       "      <th>DayOfWeek</th>\n",
       "      <th>DepTime</th>\n",
       "      <th>CRSDepTime</th>\n",
       "      <th>ArrTime</th>\n",
       "      <th>CRSArrTime</th>\n",
       "      <th>FlightNum</th>\n",
       "      <th>ActualElapsedTime</th>\n",
       "      <th>CRSElapsedTime</th>\n",
       "      <th>AirTime</th>\n",
       "      <th>ArrDelay</th>\n",
       "      <th>DepDelay</th>\n",
       "      <th>Distance</th>\n",
       "      <th>TaxiIn</th>\n",
       "      <th>TaxiOut</th>\n",
       "      <th>Cancelled</th>\n",
       "      <th>Diverted</th>\n",
       "    </tr>\n",
       "  </thead>\n",
       "  <tbody>\n",
       "    <tr>\n",
       "      <th>0</th>\n",
       "      <td>1</td>\n",
       "      <td>5</td>\n",
       "      <td>9</td>\n",
       "      <td>5</td>\n",
       "      <td>2304.0</td>\n",
       "      <td>2150</td>\n",
       "      <td>646.0</td>\n",
       "      <td>558</td>\n",
       "      <td>1803</td>\n",
       "      <td>282.0</td>\n",
       "      <td>308.0</td>\n",
       "      <td>256.0</td>\n",
       "      <td>48.0</td>\n",
       "      <td>74.0</td>\n",
       "      <td>2454</td>\n",
       "      <td>6.0</td>\n",
       "      <td>20.0</td>\n",
       "      <td>0</td>\n",
       "      <td>0</td>\n",
       "    </tr>\n",
       "    <tr>\n",
       "      <th>1</th>\n",
       "      <td>1</td>\n",
       "      <td>11</td>\n",
       "      <td>6</td>\n",
       "      <td>4</td>\n",
       "      <td>1753.0</td>\n",
       "      <td>1520</td>\n",
       "      <td>2121.0</td>\n",
       "      <td>1825</td>\n",
       "      <td>1768</td>\n",
       "      <td>148.0</td>\n",
       "      <td>125.0</td>\n",
       "      <td>92.0</td>\n",
       "      <td>176.0</td>\n",
       "      <td>153.0</td>\n",
       "      <td>678</td>\n",
       "      <td>11.0</td>\n",
       "      <td>45.0</td>\n",
       "      <td>0</td>\n",
       "      <td>0</td>\n",
       "    </tr>\n",
       "    <tr>\n",
       "      <th>2</th>\n",
       "      <td>1</td>\n",
       "      <td>12</td>\n",
       "      <td>25</td>\n",
       "      <td>4</td>\n",
       "      <td>2151.0</td>\n",
       "      <td>2024</td>\n",
       "      <td>28.0</td>\n",
       "      <td>2311</td>\n",
       "      <td>703</td>\n",
       "      <td>157.0</td>\n",
       "      <td>167.0</td>\n",
       "      <td>137.0</td>\n",
       "      <td>77.0</td>\n",
       "      <td>87.0</td>\n",
       "      <td>925</td>\n",
       "      <td>6.0</td>\n",
       "      <td>14.0</td>\n",
       "      <td>0</td>\n",
       "      <td>0</td>\n",
       "    </tr>\n",
       "    <tr>\n",
       "      <th>3</th>\n",
       "      <td>1</td>\n",
       "      <td>1</td>\n",
       "      <td>27</td>\n",
       "      <td>7</td>\n",
       "      <td>1543.0</td>\n",
       "      <td>1500</td>\n",
       "      <td>1735.0</td>\n",
       "      <td>1654</td>\n",
       "      <td>4303</td>\n",
       "      <td>52.0</td>\n",
       "      <td>54.0</td>\n",
       "      <td>34.0</td>\n",
       "      <td>41.0</td>\n",
       "      <td>43.0</td>\n",
       "      <td>151</td>\n",
       "      <td>9.0</td>\n",
       "      <td>9.0</td>\n",
       "      <td>0</td>\n",
       "      <td>0</td>\n",
       "    </tr>\n",
       "    <tr>\n",
       "      <th>4</th>\n",
       "      <td>1</td>\n",
       "      <td>6</td>\n",
       "      <td>29</td>\n",
       "      <td>7</td>\n",
       "      <td>2301.0</td>\n",
       "      <td>2120</td>\n",
       "      <td>2345.0</td>\n",
       "      <td>2213</td>\n",
       "      <td>1454</td>\n",
       "      <td>104.0</td>\n",
       "      <td>113.0</td>\n",
       "      <td>88.0</td>\n",
       "      <td>92.0</td>\n",
       "      <td>101.0</td>\n",
       "      <td>667</td>\n",
       "      <td>3.0</td>\n",
       "      <td>13.0</td>\n",
       "      <td>0</td>\n",
       "      <td>0</td>\n",
       "    </tr>\n",
       "  </tbody>\n",
       "</table>\n",
       "</div>"
      ],
      "text/plain": [
       "  Delay  Month  DayofMonth  DayOfWeek  DepTime  CRSDepTime  ArrTime  \\\n",
       "0     1      5           9          5   2304.0        2150    646.0   \n",
       "1     1     11           6          4   1753.0        1520   2121.0   \n",
       "2     1     12          25          4   2151.0        2024     28.0   \n",
       "3     1      1          27          7   1543.0        1500   1735.0   \n",
       "4     1      6          29          7   2301.0        2120   2345.0   \n",
       "\n",
       "   CRSArrTime  FlightNum  ActualElapsedTime  CRSElapsedTime  AirTime  \\\n",
       "0         558       1803              282.0           308.0    256.0   \n",
       "1        1825       1768              148.0           125.0     92.0   \n",
       "2        2311        703              157.0           167.0    137.0   \n",
       "3        1654       4303               52.0            54.0     34.0   \n",
       "4        2213       1454              104.0           113.0     88.0   \n",
       "\n",
       "   ArrDelay  DepDelay  Distance  TaxiIn  TaxiOut  Cancelled  Diverted  \n",
       "0      48.0      74.0      2454     6.0     20.0          0         0  \n",
       "1     176.0     153.0       678    11.0     45.0          0         0  \n",
       "2      77.0      87.0       925     6.0     14.0          0         0  \n",
       "3      41.0      43.0       151     9.0      9.0          0         0  \n",
       "4      92.0     101.0       667     3.0     13.0          0         0  "
      ]
     },
     "execution_count": 169,
     "metadata": {},
     "output_type": "execute_result"
    }
   ],
   "source": [
    "sm_train = pd.concat([pd.DataFrame(sm_y_train), pd.DataFrame(sm_X_train)], axis=1)\n",
    "sm_train.head()"
   ]
  },
  {
   "cell_type": "code",
   "execution_count": 170,
   "id": "b007c2cd",
   "metadata": {
    "ExecuteTime": {
     "end_time": "2022-06-08T11:30:19.176261Z",
     "start_time": "2022-06-08T11:30:18.888724Z"
    }
   },
   "outputs": [
    {
     "data": {
      "text/plain": [
       "1    0.5\n",
       "0    0.5\n",
       "Name: Delay, dtype: float64"
      ]
     },
     "execution_count": 170,
     "metadata": {},
     "output_type": "execute_result"
    }
   ],
   "source": [
    "sm_train.Delay.value_counts(normalize = True)"
   ]
  },
  {
   "cell_type": "code",
   "execution_count": null,
   "id": "2902564a",
   "metadata": {},
   "outputs": [],
   "source": [
    "#podem observar que tenim les dades balancejades... \n",
    "#Ara ja podem començar a crear els mètodes i assegurar una bona predicció de si hi ha retards o no en els vols"
   ]
  },
  {
   "cell_type": "markdown",
   "id": "71247a27",
   "metadata": {},
   "source": [
    "##### Primer model: Regressió Logística"
   ]
  },
  {
   "cell_type": "code",
   "execution_count": 91,
   "id": "b136749a",
   "metadata": {
    "ExecuteTime": {
     "end_time": "2022-06-07T09:34:55.577115Z",
     "start_time": "2022-06-07T09:34:46.986322Z"
    }
   },
   "outputs": [
    {
     "data": {
      "text/plain": [
       "LogisticRegression(solver='liblinear')"
      ]
     },
     "execution_count": 91,
     "metadata": {},
     "output_type": "execute_result"
    }
   ],
   "source": [
    "#Logistic Regression model en training set\n",
    "from sklearn.linear_model import LogisticRegression\n",
    "\n",
    "# cridem el model\n",
    "log_reg = LogisticRegression(solver = \"liblinear\")\n",
    "\n",
    "# fit model\n",
    "log_reg.fit(sm_X_train, sm_y_train)"
   ]
  },
  {
   "cell_type": "code",
   "execution_count": 93,
   "id": "2e0f41f8",
   "metadata": {
    "ExecuteTime": {
     "end_time": "2022-06-07T09:36:17.339137Z",
     "start_time": "2022-06-07T09:36:17.303230Z"
    }
   },
   "outputs": [],
   "source": [
    "# fem predictions for the testing set\n",
    "y_pred = log_reg.predict(X_test)"
   ]
  },
  {
   "cell_type": "code",
   "execution_count": null,
   "id": "fa18baf6",
   "metadata": {},
   "outputs": [],
   "source": [
    "#anem a mirar les diferents mètriques per avaluar el model\n",
    "#Precisio (Accuracy)\n",
    "#Matriu de confussió\n",
    "#Altres mètriques més avançades (Precision and recall, F1 score, Sensitivity and Specifity, ROC curve and AUC)"
   ]
  },
  {
   "cell_type": "code",
   "execution_count": 94,
   "id": "0dac3163",
   "metadata": {
    "ExecuteTime": {
     "end_time": "2022-06-07T09:36:28.050210Z",
     "start_time": "2022-06-07T09:36:27.846726Z"
    }
   },
   "outputs": [
    {
     "name": "stdout",
     "output_type": "stream",
     "text": [
      "0.9999585144867412\n"
     ]
    }
   ],
   "source": [
    "# calculem Classificació precisió (accuracy): percentatge de prediccions correctes\n",
    "print(metrics.accuracy_score(y_test, y_pred))"
   ]
  },
  {
   "cell_type": "code",
   "execution_count": 95,
   "id": "f49dfbf6",
   "metadata": {
    "ExecuteTime": {
     "end_time": "2022-06-07T09:36:40.923872Z",
     "start_time": "2022-06-07T09:36:40.917889Z"
    }
   },
   "outputs": [],
   "source": [
    "#Avaluarem el model utilitzant Confusion Matrix: taula q ens descriu el rendiment d'un model de classificació\n",
    "#Ja que sabem que la mesura de la Precissió(Accuracy) no és la millor per avaluar bé un model"
   ]
  },
  {
   "cell_type": "code",
   "execution_count": 96,
   "id": "57b3d2cb",
   "metadata": {
    "ExecuteTime": {
     "end_time": "2022-06-07T09:36:43.818268Z",
     "start_time": "2022-06-07T09:36:43.390879Z"
    }
   },
   "outputs": [
    {
     "name": "stdout",
     "output_type": "stream",
     "text": [
      "[[ 12971      0]\n",
      " [     5 107548]]\n"
     ]
    }
   ],
   "source": [
    "# IMPORTANT: first argument is true values, second argument is predicted values!!\n",
    "# this produces a 2x2 numpy array (matrix) ja que el model és de classificació binària\n",
    "conf_matrix = metrics.confusion_matrix(y_test, y_pred)\n",
    "print(conf_matrix)"
   ]
  },
  {
   "cell_type": "markdown",
   "id": "59e72c30",
   "metadata": {},
   "source": [
    "Tenim dues classes 0 i 1, els valors de la diagonal representen prediccions precises(12971 i 107548), mentres que els altres elements són prediccions inexactes o incorrectes(0 i 5)\n",
    "Podriem dir que en el nostre cas amb el model de Regressió Logística, tenim una bona predicció, ja que tenim un nombre elevat de prediccions precisses(12971 + 107548), i molt poques de inexactes o incorrectes (0 + 5)"
   ]
  },
  {
   "cell_type": "code",
   "execution_count": 97,
   "id": "7025250e",
   "metadata": {
    "ExecuteTime": {
     "end_time": "2022-06-07T09:37:56.517675Z",
     "start_time": "2022-06-07T09:37:56.301961Z"
    }
   },
   "outputs": [
    {
     "data": {
      "text/plain": [
       "Text(0.5, 257.44, 'Predicted label')"
      ]
     },
     "execution_count": 97,
     "metadata": {},
     "output_type": "execute_result"
    },
    {
     "data": {
      "image/png": "[encoded data removed]",
      "text/plain": [
       "<Figure size 432x288 with 2 Axes>"
      ]
     },
     "metadata": {
      "needs_background": "light"
     },
     "output_type": "display_data"
    }
   ],
   "source": [
    "#fem visualització de la matriu utilitzant un heatmap  \n",
    "fig, ax = plt.subplots()\n",
    "tick_marks = np.arange(len(class_names))\n",
    "plt.xticks(tick_marks, class_names)\n",
    "plt.yticks(tick_marks, class_names)\n",
    "# create heatmap\n",
    "sns.heatmap(pd.DataFrame(conf_matrix), annot=True, cmap=\"YlGnBu\" ,fmt='g')\n",
    "ax.xaxis.set_label_position(\"top\")\n",
    "plt.tight_layout()\n",
    "plt.title(\"Confusion matrix\", y=1.1)\n",
    "plt.ylabel(\"Actual label\")\n",
    "plt.xlabel(\"Predicted label\")"
   ]
  },
  {
   "cell_type": "markdown",
   "id": "addf5b5d",
   "metadata": {},
   "source": [
    "**Evaluation Metrics computed from a confusion matrix**\n",
    "\n",
    " **Classification Accuracy:** Overall, how often is the classifier correct?\n",
    " \n",
    " **Precision:** When a positive value is predicted, how often is the prediction correct?\n"
   ]
  },
  {
   "cell_type": "code",
   "execution_count": 98,
   "id": "1ba5326f",
   "metadata": {
    "ExecuteTime": {
     "end_time": "2022-06-07T09:38:04.008431Z",
     "start_time": "2022-06-07T09:38:03.782204Z"
    }
   },
   "outputs": [
    {
     "name": "stdout",
     "output_type": "stream",
     "text": [
      "Accuracy: 0.9999585144867412\n"
     ]
    }
   ],
   "source": [
    "print(\"Accuracy:\", metrics.accuracy_score(y_test, y_pred))"
   ]
  },
  {
   "cell_type": "code",
   "execution_count": 99,
   "id": "fbd0e6a3",
   "metadata": {
    "ExecuteTime": {
     "end_time": "2022-06-07T09:38:09.476732Z",
     "start_time": "2022-06-07T09:38:08.708787Z"
    }
   },
   "outputs": [
    {
     "name": "stdout",
     "output_type": "stream",
     "text": [
      "Precision: 0.99961467324291\n"
     ]
    }
   ],
   "source": [
    "print(\"Precision:\", metrics.precision_score(y_test, y_pred, pos_label=\"0\"))"
   ]
  },
  {
   "cell_type": "markdown",
   "id": "61525275",
   "metadata": {},
   "source": [
    "Many other metrics can be computed: F1 score, Recall score, Matthews correlation coefficient, etc."
   ]
  },
  {
   "cell_type": "code",
   "execution_count": 100,
   "id": "425fa52b",
   "metadata": {
    "ExecuteTime": {
     "end_time": "2022-06-07T09:38:15.078548Z",
     "start_time": "2022-06-07T09:38:14.308701Z"
    }
   },
   "outputs": [
    {
     "data": {
      "text/plain": [
       "0.999976755105741"
      ]
     },
     "execution_count": 100,
     "metadata": {},
     "output_type": "execute_result"
    }
   ],
   "source": [
    "# F1 score: promig ponderat de precissió i recall\n",
    "metrics.f1_score(y_test, y_pred, pos_label=\"1\")"
   ]
  },
  {
   "cell_type": "code",
   "execution_count": 101,
   "id": "e4880f7d",
   "metadata": {
    "ExecuteTime": {
     "end_time": "2022-06-07T09:38:20.487423Z",
     "start_time": "2022-06-07T09:38:19.748881Z"
    }
   },
   "outputs": [
    {
     "data": {
      "text/plain": [
       "0.9999535112921072"
      ]
     },
     "execution_count": 101,
     "metadata": {},
     "output_type": "execute_result"
    }
   ],
   "source": [
    "# recall score: nombre de possitius reals dividit pel nombre de valors possitius en les dades de prova. Tb conegut com Sensibilitat o\n",
    "# tasa de verdaderos positivos. Si el valor és baix, indica q hi ha molts falsos negatius\n",
    "metrics.recall_score(y_test, y_pred, pos_label=\"1\")"
   ]
  },
  {
   "cell_type": "markdown",
   "id": "a8b72c7a",
   "metadata": {},
   "source": [
    "##### Podem observar els resultats de les metriques obtinguts:\n",
    "Tenim una accuracy score de 99,99%, amb el que podem dir que és un molt bon resultat, per tant, aquest mètode de classificació triat, per les nostres dades és molt bó!\n",
    "La Precissió és del 99,96%, és a dir, quan amb el nostre model de Regressió Logistica fem una predicció de si hi haurà un delay, encertem en un 99,96% de les vegades!\n",
    "Recall = ens diu que si hi ha vols amb retard en el nostre grup de dades de test, el model de Regressió Logistica creat pot identificar-los en un 99,99% de les vegades"
   ]
  },
  {
   "cell_type": "markdown",
   "id": "d1effcf6",
   "metadata": {},
   "source": [
    "#ROC Curve(Receiver Operating Characteristic) and AUC(Area Under the Curve)\n",
    "És una de les mètriques d'avaluació més importants per comprovar el rendiment de qualsevol model de classificació\n",
    "ROC: és un gràfic de la tasa de positius reals i la de falsos positius, representació gràfica de la sensibilitat davant de l'especificitat per a un sistema classificador binari segons es varia el llindar de discriminació\n",
    "\n",
    "Un model excel·lent té un AUC proper a l'1, significa que té una bona mesura de separabilitat"
   ]
  },
  {
   "cell_type": "code",
   "execution_count": 102,
   "id": "51fec2f6",
   "metadata": {
    "ExecuteTime": {
     "end_time": "2022-06-07T09:39:22.504491Z",
     "start_time": "2022-06-07T09:39:22.068932Z"
    }
   },
   "outputs": [
    {
     "data": {
      "image/png": "[encoded data removed]",
      "text/plain": [
       "<Figure size 432x288 with 1 Axes>"
      ]
     },
     "metadata": {
      "needs_background": "light"
     },
     "output_type": "display_data"
    }
   ],
   "source": [
    "y_pred_proba = log_reg.predict_proba(X_test)[::,1]\n",
    "fpr, tpr, _ = metrics.roc_curve(y_test,  y_pred_proba, pos_label= \"1\")\n",
    "auc = metrics.roc_auc_score(y_test, y_pred_proba)\n",
    "plt.plot(fpr,tpr,label=\"data 1, auc=\"+str(auc))\n",
    "plt.legend(loc=4)\n",
    "plt.show()"
   ]
  },
  {
   "cell_type": "markdown",
   "id": "d0081b85",
   "metadata": {},
   "source": [
    "#En el nostre model, observem que AUC = 1.0, això voldria dir que el nostre model és molt bó ja que el model és perfectament capaç de diferenciar entre la classe possitiva i la negativa"
   ]
  },
  {
   "cell_type": "markdown",
   "id": "d1d5197e",
   "metadata": {},
   "source": [
    "Segurament si enlloc de triar com adades totes les propietats haguessim estudiat com predir que els vols tenien retard en funció de DeptTime, Distance, AirTime, per exemple, el model no ens hagues donat uns valors així de bons. Per manca de temps, no faré aquesta comprovació sinó que crearé altres models basant-me an aquests paràmetres per veure com surten!"
   ]
  },
  {
   "cell_type": "code",
   "execution_count": 158,
   "id": "b68727b7",
   "metadata": {
    "ExecuteTime": {
     "end_time": "2022-06-08T11:14:21.586539Z",
     "start_time": "2022-06-08T11:14:21.572575Z"
    }
   },
   "outputs": [
    {
     "data": {
      "text/plain": [
       "{'C': 1.0,\n",
       " 'class_weight': None,\n",
       " 'dual': False,\n",
       " 'fit_intercept': True,\n",
       " 'intercept_scaling': 1,\n",
       " 'l1_ratio': None,\n",
       " 'max_iter': 100,\n",
       " 'multi_class': 'auto',\n",
       " 'n_jobs': None,\n",
       " 'penalty': 'l1',\n",
       " 'random_state': 8,\n",
       " 'solver': 'liblinear',\n",
       " 'tol': 0.0001,\n",
       " 'verbose': 0,\n",
       " 'warm_start': False}"
      ]
     },
     "execution_count": 158,
     "metadata": {},
     "output_type": "execute_result"
    }
   ],
   "source": [
    "#Ex2 #entrenem utilitzant diferents paràmetres\n",
    "#comprovació de paràmetres utilitzats\n",
    "log_reg.get_params()"
   ]
  },
  {
   "cell_type": "code",
   "execution_count": 165,
   "id": "971ab5c5",
   "metadata": {
    "ExecuteTime": {
     "end_time": "2022-06-08T11:27:18.552614Z",
     "start_time": "2022-06-08T11:26:03.527940Z"
    }
   },
   "outputs": [
    {
     "name": "stderr",
     "output_type": "stream",
     "text": [
      "C:\\Users\\Beth\\anaconda3\\lib\\site-packages\\sklearn\\linear_model\\_sag.py:328: ConvergenceWarning: The max_iter was reached which means the coef_ did not converge\n",
      "  warnings.warn(\"The max_iter was reached which means \"\n"
     ]
    },
    {
     "data": {
      "text/plain": [
       "LogisticRegression(l1_ratio=0.5, max_iter=180, penalty='elasticnet',\n",
       "                   random_state=8, solver='saga')"
      ]
     },
     "execution_count": 165,
     "metadata": {},
     "output_type": "execute_result"
    }
   ],
   "source": [
    "#modificaré el random_state que veig que l'he fet servir a None, i penalty=\"elasticnet\"(amb el q solver=saga)\n",
    "# cridem el model amb els canvis de paràmetres\n",
    "log_reg_2 = LogisticRegression(random_state= 8, solver = \"saga\", penalty = \"elasticnet\", l1_ratio=0.5, max_iter= 180)\n",
    "\n",
    "# fit model\n",
    "log_reg_2.fit(sm_X_train, sm_y_train)"
   ]
  },
  {
   "cell_type": "code",
   "execution_count": 171,
   "id": "edd39474",
   "metadata": {
    "ExecuteTime": {
     "end_time": "2022-06-08T11:30:50.851241Z",
     "start_time": "2022-06-08T11:30:50.560943Z"
    }
   },
   "outputs": [],
   "source": [
    "y_pred_lr = log_reg_2.predict(X_test)"
   ]
  },
  {
   "cell_type": "code",
   "execution_count": 172,
   "id": "c32eb332",
   "metadata": {
    "ExecuteTime": {
     "end_time": "2022-06-08T11:32:29.456950Z",
     "start_time": "2022-06-08T11:32:25.035213Z"
    }
   },
   "outputs": [
    {
     "name": "stdout",
     "output_type": "stream",
     "text": [
      "[[ 12971      0]\n",
      " [  2883 104670]]\n",
      "              precision    recall  f1-score   support\n",
      "\n",
      "           0       0.82      1.00      0.90     12971\n",
      "           1       1.00      0.97      0.99    107553\n",
      "\n",
      "    accuracy                           0.98    120524\n",
      "   macro avg       0.91      0.99      0.94    120524\n",
      "weighted avg       0.98      0.98      0.98    120524\n",
      "\n"
     ]
    }
   ],
   "source": [
    "#tornem a avaluar mètriques\n",
    "print(confusion_matrix(y_test, y_pred_lr))\n",
    "print(classification_report(y_test, y_pred_lr))"
   ]
  },
  {
   "cell_type": "markdown",
   "id": "71eb2b2a",
   "metadata": {},
   "source": [
    "En quant a valors de precissió hem millorat, però en la resta de mètriques no ha variat gaire! i la matriu de confussió presenta més valors incorrectes o inxactes. Veniem d'un mètode en el q hi havia poc a millorar degut q que els valors obtinguts abans de canviar paràmetres ja ens donaven una molt bona predicció! De fet, no hagués calgut entrenar-lo però com a pràctica és bó fer-ho!"
   ]
  },
  {
   "cell_type": "markdown",
   "id": "0f7d0619",
   "metadata": {},
   "source": [
    "#####  Segon model: Decission Tree Algorithm"
   ]
  },
  {
   "cell_type": "markdown",
   "id": "b52e823c",
   "metadata": {},
   "source": [
    "#utilitzarem el procediment K-fold cross validation\n",
    "#ens va perfecte en les nostres dades ja que tenim un dataframe bastant gran, i en quant a temps de processament ens anirà millor\n",
    "\n",
    "#Cross-Validation\n",
    "The k-fold cross-validation procedure divides a limited dataset into k non-overlapping folds. Each of the k folds is given an opportunity to be used as a held-back test set, whilst all other folds collectively are used as a training dataset. A total of k models are fit and evaluated on the k hold-out test sets and the mean performance is reported The k-fold cross-validation procedure can be implemented easily using the scikit-learn machine learning library\n",
    "\n",
    "#cross validation\n",
    "\n",
    "#print(cross_val_score(knn, X_train, y_train, cv=4))"
   ]
  },
  {
   "cell_type": "code",
   "execution_count": 136,
   "id": "6ee47cf0",
   "metadata": {
    "ExecuteTime": {
     "end_time": "2022-06-08T08:51:06.960315Z",
     "start_time": "2022-06-08T08:50:51.844819Z"
    }
   },
   "outputs": [
    {
     "name": "stdout",
     "output_type": "stream",
     "text": [
      "Accuracy:  0.869\n",
      "StdDev:  0.002\n"
     ]
    }
   ],
   "source": [
    "#com hem comentat abans, anem a basar-nos en algunes de les propietats per predir si hi ha retard ene els vols\n",
    "X_DTA = data_frame_sample[[\"DepDelay\", \"DepTime\", \"Distance\", \"AirTime\"]]\n",
    "y = data_frame_sample[\"Delay\"]\n",
    "\n",
    "X_train, X_test, y_train, y_test = train_test_split(X_DTA, y, test_size=0.25, random_state=7)\n",
    "\n",
    "#Decission Tree Algorithm\n",
    "model_DTA = DecisionTreeClassifier(random_state = 8)\n",
    "#cross validation\n",
    "mod_result = cross_val_score(model_DTA, X_train, y_train, cv=10)\n",
    "print(\"Accuracy: \" , round(mod_result.mean(), 3))    \n",
    "print(\"StdDev: \" , round(mod_result.std(), 3))"
   ]
  },
  {
   "cell_type": "code",
   "execution_count": 137,
   "id": "1cb96a0a",
   "metadata": {
    "ExecuteTime": {
     "end_time": "2022-06-08T08:51:22.605349Z",
     "start_time": "2022-06-08T08:51:20.872924Z"
    }
   },
   "outputs": [
    {
     "data": {
      "text/plain": [
       "DecisionTreeClassifier(random_state=8)"
      ]
     },
     "execution_count": 137,
     "metadata": {},
     "output_type": "execute_result"
    }
   ],
   "source": [
    "# fit model\n",
    "model_DTA.fit(X_train, y_train)"
   ]
  },
  {
   "cell_type": "code",
   "execution_count": 138,
   "id": "18fe8c69",
   "metadata": {
    "ExecuteTime": {
     "end_time": "2022-06-08T08:52:53.528518Z",
     "start_time": "2022-06-08T08:52:53.079318Z"
    }
   },
   "outputs": [],
   "source": [
    "y_pred = model_DTA.predict(X_test)"
   ]
  },
  {
   "cell_type": "code",
   "execution_count": 139,
   "id": "5be44448",
   "metadata": {
    "ExecuteTime": {
     "end_time": "2022-06-08T08:54:05.532224Z",
     "start_time": "2022-06-08T08:54:00.078834Z"
    }
   },
   "outputs": [
    {
     "name": "stdout",
     "output_type": "stream",
     "text": [
      "[[ 5333  7638]\n",
      " [ 8250 99303]]\n",
      "              precision    recall  f1-score   support\n",
      "\n",
      "           0       0.39      0.41      0.40     12971\n",
      "           1       0.93      0.92      0.93    107553\n",
      "\n",
      "    accuracy                           0.87    120524\n",
      "   macro avg       0.66      0.67      0.66    120524\n",
      "weighted avg       0.87      0.87      0.87    120524\n",
      "\n"
     ]
    }
   ],
   "source": [
    "#avaluem l'algoritme\n",
    "print(confusion_matrix(y_test, y_pred))\n",
    "print(classification_report(y_test, y_pred))"
   ]
  },
  {
   "cell_type": "markdown",
   "id": "56c53145",
   "metadata": {},
   "source": [
    "#veiem que hem obtingut unes mètriques bastant acceptables tot i que millorables, ja que tant la precissió que és d'un 87%, i el recall  f1-score són del 92 i 93 % respectivament"
   ]
  },
  {
   "cell_type": "code",
   "execution_count": 173,
   "id": "b1fbdc51",
   "metadata": {
    "ExecuteTime": {
     "end_time": "2022-06-08T11:41:27.832533Z",
     "start_time": "2022-06-08T11:41:27.824554Z"
    }
   },
   "outputs": [
    {
     "data": {
      "text/plain": [
       "{'ccp_alpha': 0.0,\n",
       " 'class_weight': None,\n",
       " 'criterion': 'gini',\n",
       " 'max_depth': None,\n",
       " 'max_features': None,\n",
       " 'max_leaf_nodes': None,\n",
       " 'min_impurity_decrease': 0.0,\n",
       " 'min_impurity_split': None,\n",
       " 'min_samples_leaf': 1,\n",
       " 'min_samples_split': 2,\n",
       " 'min_weight_fraction_leaf': 0.0,\n",
       " 'random_state': 8,\n",
       " 'splitter': 'best'}"
      ]
     },
     "execution_count": 173,
     "metadata": {},
     "output_type": "execute_result"
    }
   ],
   "source": [
    "#Ex2 #entrenem utilitzant diferents paràmetres\n",
    "#comprovació de paràmetres utilitzats\n",
    "model_DTA.get_params()"
   ]
  },
  {
   "cell_type": "code",
   "execution_count": 29,
   "id": "f444c8f6",
   "metadata": {
    "ExecuteTime": {
     "end_time": "2022-06-08T13:00:26.112443Z",
     "start_time": "2022-06-08T13:00:19.292463Z"
    }
   },
   "outputs": [
    {
     "name": "stdout",
     "output_type": "stream",
     "text": [
      "Accuracy:  0.889\n",
      "StdDev:  0.002\n"
     ]
    }
   ],
   "source": [
    "#Decission Tree Algorithm canviant paràmetres: splitter = random, max_depth = 20\n",
    "model_DTA_2 = DecisionTreeClassifier(random_state = 8, splitter=\"random\", max_depth=20)\n",
    "#cross validation\n",
    "mod_result_2 = cross_val_score(model_DTA_2, X_train, y_train, cv=10)\n",
    "print(\"Accuracy: \" , round(mod_result_2.mean(), 3))    \n",
    "print(\"StdDev: \" , round(mod_result_2.std(), 3))"
   ]
  },
  {
   "cell_type": "code",
   "execution_count": 30,
   "id": "69f3ba92",
   "metadata": {
    "ExecuteTime": {
     "end_time": "2022-06-08T13:01:00.210146Z",
     "start_time": "2022-06-08T13:00:59.486572Z"
    }
   },
   "outputs": [
    {
     "data": {
      "text/plain": [
       "DecisionTreeClassifier(max_depth=20, random_state=8, splitter='random')"
      ]
     },
     "execution_count": 30,
     "metadata": {},
     "output_type": "execute_result"
    }
   ],
   "source": [
    "# fit model\n",
    "model_DTA_2.fit(X_train, y_train)"
   ]
  },
  {
   "cell_type": "code",
   "execution_count": 31,
   "id": "7656e9d5",
   "metadata": {
    "ExecuteTime": {
     "end_time": "2022-06-08T13:01:38.836346Z",
     "start_time": "2022-06-08T13:01:38.804400Z"
    }
   },
   "outputs": [],
   "source": [
    "y_pred_DTA = model_DTA_2.predict(X_test)"
   ]
  },
  {
   "cell_type": "code",
   "execution_count": 33,
   "id": "266c9c20",
   "metadata": {
    "ExecuteTime": {
     "end_time": "2022-06-08T13:02:42.120525Z",
     "start_time": "2022-06-08T13:02:38.972941Z"
    }
   },
   "outputs": [
    {
     "name": "stdout",
     "output_type": "stream",
     "text": [
      "[[ 2416  7809]\n",
      " [ 2889 83305]]\n",
      "              precision    recall  f1-score   support\n",
      "\n",
      "           0       0.46      0.24      0.31     10225\n",
      "           1       0.91      0.97      0.94     86194\n",
      "\n",
      "    accuracy                           0.89     96419\n",
      "   macro avg       0.68      0.60      0.63     96419\n",
      "weighted avg       0.87      0.89      0.87     96419\n",
      "\n"
     ]
    }
   ],
   "source": [
    "#avaluem de nou l'algoritme amb els canvis\n",
    "print(confusion_matrix(y_test, y_pred_DTA))\n",
    "print(classification_report(y_test, y_pred_DTA))"
   ]
  },
  {
   "cell_type": "markdown",
   "id": "e90b7da4",
   "metadata": {},
   "source": [
    "S'observa una lleugera millora del model amb els nous paràmetres! tant la precissió com les mètriques de recall i f1-score han millorat respecte els paràmetres d'abans"
   ]
  },
  {
   "cell_type": "markdown",
   "id": "c7ae001c",
   "metadata": {},
   "source": [
    "##### Tercer model: KNN (K-Nearest Neighbors Algorithm)"
   ]
  },
  {
   "cell_type": "markdown",
   "id": "2f11ae0d",
   "metadata": {},
   "source": [
    "The K-nearest neighbors (KNN) algorithm is a type of supervised machine learning algorithms. KNN is extremely easy to implement in its most basic form, and yet performs quite complex classification tasks"
   ]
  },
  {
   "cell_type": "code",
   "execution_count": 17,
   "id": "c24c13b0",
   "metadata": {
    "ExecuteTime": {
     "end_time": "2022-06-08T12:49:36.719805Z",
     "start_time": "2022-06-08T12:49:35.925115Z"
    }
   },
   "outputs": [],
   "source": [
    "#com hem comentat abans, anem a basar-nos en algunes de les propietats per predir si hi ha retard ene els vols\n",
    "X_knn = data_frame_sample[[\"DepDelay\", \"DepTime\", \"Distance\", \"AirTime\"]]\n",
    "y = data_frame_sample[\"Delay\"]"
   ]
  },
  {
   "cell_type": "code",
   "execution_count": 18,
   "id": "bc242702",
   "metadata": {
    "ExecuteTime": {
     "end_time": "2022-06-08T12:49:56.614166Z",
     "start_time": "2022-06-08T12:49:55.717251Z"
    }
   },
   "outputs": [],
   "source": [
    "#generem train and test splits\n",
    "X_train, X_test, y_train, y_test = train_test_split(X_knn, y, test_size=0.20)"
   ]
  },
  {
   "cell_type": "code",
   "execution_count": 19,
   "id": "8d071378",
   "metadata": {
    "ExecuteTime": {
     "end_time": "2022-06-08T12:50:01.762049Z",
     "start_time": "2022-06-08T12:50:01.100806Z"
    }
   },
   "outputs": [],
   "source": [
    "#feature scaling\n",
    "scaler = StandardScaler()\n",
    "scaler.fit(X_train)\n",
    "\n",
    "X_train = scaler.transform(X_train)\n",
    "X_test = scaler.transform(X_test)"
   ]
  },
  {
   "cell_type": "code",
   "execution_count": 124,
   "id": "1ba1df9b",
   "metadata": {
    "ExecuteTime": {
     "end_time": "2022-06-07T13:33:59.865520Z",
     "start_time": "2022-06-07T13:33:58.452107Z"
    }
   },
   "outputs": [
    {
     "data": {
      "text/plain": [
       "KNeighborsClassifier()"
      ]
     },
     "execution_count": 124,
     "metadata": {},
     "output_type": "execute_result"
    }
   ],
   "source": [
    "#entrenem i fem predicció en les dades de test\n",
    "from sklearn.neighbors import KNeighborsClassifier\n",
    "classifier = KNeighborsClassifier(n_neighbors=5)\n",
    "classifier.fit(X_train, y_train)"
   ]
  },
  {
   "cell_type": "code",
   "execution_count": 125,
   "id": "2e9dcd76",
   "metadata": {
    "ExecuteTime": {
     "end_time": "2022-06-07T13:34:11.036888Z",
     "start_time": "2022-06-07T13:34:06.523848Z"
    }
   },
   "outputs": [],
   "source": [
    "y_pred = classifier.predict(X_test)"
   ]
  },
  {
   "cell_type": "markdown",
   "id": "950ba9fe",
   "metadata": {},
   "source": [
    "For evaluating an algorithm, confusion matrix, precision, recall and f1 score are the most commonly used metrics. The confusion_matrix and classification_report methods of the sklearn.metrics can be used to calculate these metrics"
   ]
  },
  {
   "cell_type": "code",
   "execution_count": 126,
   "id": "a63e8558",
   "metadata": {
    "ExecuteTime": {
     "end_time": "2022-06-07T13:34:38.434659Z",
     "start_time": "2022-06-07T13:34:35.444907Z"
    }
   },
   "outputs": [
    {
     "name": "stdout",
     "output_type": "stream",
     "text": [
      "[[ 3239  6902]\n",
      " [ 3417 82861]]\n",
      "              precision    recall  f1-score   support\n",
      "\n",
      "           0       0.49      0.32      0.39     10141\n",
      "           1       0.92      0.96      0.94     86278\n",
      "\n",
      "    accuracy                           0.89     96419\n",
      "   macro avg       0.70      0.64      0.66     96419\n",
      "weighted avg       0.88      0.89      0.88     96419\n",
      "\n"
     ]
    }
   ],
   "source": [
    "#avaluem l'algoritme\n",
    "from sklearn.metrics import classification_report, confusion_matrix\n",
    "print(confusion_matrix(y_test, y_pred))\n",
    "print(classification_report(y_test, y_pred))"
   ]
  },
  {
   "cell_type": "markdown",
   "id": "61e7898e",
   "metadata": {},
   "source": [
    "#Comparing Error Rate with the K Value\n",
    "The above script executes a loop. In each iteration the mean error for predicted values of test set is calculated and the result is appended to the error list"
   ]
  },
  {
   "cell_type": "code",
   "execution_count": 129,
   "id": "a2cab68b",
   "metadata": {
    "ExecuteTime": {
     "end_time": "2022-06-07T13:52:44.137339Z",
     "start_time": "2022-06-07T13:45:06.425428Z"
    }
   },
   "outputs": [],
   "source": [
    "error = []\n",
    "\n",
    "# Calculating error for K values between 1 and 40\n",
    "for i in range(1, 50):\n",
    "    knn = KNeighborsClassifier(n_neighbors=i)\n",
    "    knn.fit(X_train, y_train)\n",
    "    pred_i = knn.predict(X_test)\n",
    "    error.append(np.mean(pred_i != y_test))"
   ]
  },
  {
   "cell_type": "code",
   "execution_count": 130,
   "id": "7ed4aed0",
   "metadata": {
    "ExecuteTime": {
     "end_time": "2022-06-07T13:52:44.947385Z",
     "start_time": "2022-06-07T13:52:44.147215Z"
    }
   },
   "outputs": [
    {
     "data": {
      "text/plain": [
       "Text(0, 0.5, 'Mean Error')"
      ]
     },
     "execution_count": 130,
     "metadata": {},
     "output_type": "execute_result"
    },
    {
     "data": {
      "image/png": "[encoded data removed]",
      "text/plain": [
       "<Figure size 864x432 with 1 Axes>"
      ]
     },
     "metadata": {
      "needs_background": "light"
     },
     "output_type": "display_data"
    }
   ],
   "source": [
    "#The next step is to plot the error values against K values\n",
    "plt.figure(figsize=(12, 6))\n",
    "plt.plot(range(1, 50), error, color='red', linestyle='dashed', marker='o',\n",
    "         markerfacecolor='blue', markersize=10)\n",
    "plt.title('Error Rate K Value')\n",
    "plt.xlabel('K Value')\n",
    "plt.ylabel('Mean Error')"
   ]
  },
  {
   "cell_type": "code",
   "execution_count": null,
   "id": "904f3ad4",
   "metadata": {},
   "outputs": [],
   "source": [
    "#a partir de k=30 fins a K=40 veiem que és quan tenim the mean error més aprop de zero, és a dir quan la predicció és gairebé perfecte!\n",
    "#jugant amb el valor de K podem obtenir una predicció millor... exactament el valor més proper ens el dona K=29...variem el paràmetre \n",
    "#a aquest valor i així podem veure com afecta a la precissió de les prediccions"
   ]
  },
  {
   "cell_type": "code",
   "execution_count": 131,
   "id": "1ef730af",
   "metadata": {
    "ExecuteTime": {
     "end_time": "2022-06-08T08:24:30.889217Z",
     "start_time": "2022-06-08T08:24:28.035690Z"
    }
   },
   "outputs": [
    {
     "data": {
      "text/plain": [
       "KNeighborsClassifier(n_neighbors=29)"
      ]
     },
     "execution_count": 131,
     "metadata": {},
     "output_type": "execute_result"
    }
   ],
   "source": [
    "#entrenem i fem predicció en les dades de test amb el nou valor de K =29\n",
    "from sklearn.neighbors import KNeighborsClassifier\n",
    "classifier = KNeighborsClassifier(n_neighbors=29)\n",
    "classifier.fit(X_train, y_train)"
   ]
  },
  {
   "cell_type": "code",
   "execution_count": 132,
   "id": "2638ce6a",
   "metadata": {
    "ExecuteTime": {
     "end_time": "2022-06-08T08:25:05.969792Z",
     "start_time": "2022-06-08T08:24:57.422572Z"
    }
   },
   "outputs": [],
   "source": [
    "y_pred = classifier.predict(X_test)"
   ]
  },
  {
   "cell_type": "code",
   "execution_count": 133,
   "id": "094a7516",
   "metadata": {
    "ExecuteTime": {
     "end_time": "2022-06-08T08:25:51.268453Z",
     "start_time": "2022-06-08T08:25:43.164606Z"
    }
   },
   "outputs": [
    {
     "name": "stdout",
     "output_type": "stream",
     "text": [
      "[[ 2288  7853]\n",
      " [ 1548 84730]]\n",
      "              precision    recall  f1-score   support\n",
      "\n",
      "           0       0.60      0.23      0.33     10141\n",
      "           1       0.92      0.98      0.95     86278\n",
      "\n",
      "    accuracy                           0.90     96419\n",
      "   macro avg       0.76      0.60      0.64     96419\n",
      "weighted avg       0.88      0.90      0.88     96419\n",
      "\n"
     ]
    }
   ],
   "source": [
    "#avaluem de nou l'algoritme\n",
    "import from sklearn.metrics  classification_report, confusion_matrix\n",
    "print(confusion_matrix(y_test, y_pred))\n",
    "print(classification_report(y_test, y_pred))"
   ]
  },
  {
   "cell_type": "code",
   "execution_count": null,
   "id": "7ecd5280",
   "metadata": {},
   "outputs": [],
   "source": [
    "#realment podem observar que la precissió ha pujat una mica, d'un 89% al 90%...i també han millorat recall i f1-score"
   ]
  },
  {
   "cell_type": "code",
   "execution_count": 174,
   "id": "ff53cb84",
   "metadata": {
    "ExecuteTime": {
     "end_time": "2022-06-08T11:43:07.675768Z",
     "start_time": "2022-06-08T11:43:07.656820Z"
    }
   },
   "outputs": [
    {
     "data": {
      "text/plain": [
       "{'algorithm': 'auto',\n",
       " 'leaf_size': 30,\n",
       " 'metric': 'minkowski',\n",
       " 'metric_params': None,\n",
       " 'n_jobs': None,\n",
       " 'n_neighbors': 29,\n",
       " 'p': 2,\n",
       " 'weights': 'uniform'}"
      ]
     },
     "execution_count": 174,
     "metadata": {},
     "output_type": "execute_result"
    }
   ],
   "source": [
    "#Ex2 #entrenem utilitzant diferents paràmetres\n",
    "#comprovació de paràmetres utilitzats\n",
    "classifier.get_params()"
   ]
  },
  {
   "cell_type": "code",
   "execution_count": null,
   "id": "3eb74d57",
   "metadata": {},
   "outputs": [],
   "source": [
    "#de fet, ja havia entrenat aquest mètode canviant el paràmetre n_neighbors de 5 a 29, provem ara amb K=9 a veure quin resultat obtenim"
   ]
  },
  {
   "cell_type": "code",
   "execution_count": 23,
   "id": "87ff09dc",
   "metadata": {
    "ExecuteTime": {
     "end_time": "2022-06-08T12:51:23.067912Z",
     "start_time": "2022-06-08T12:51:21.592178Z"
    }
   },
   "outputs": [
    {
     "data": {
      "text/plain": [
       "KNeighborsClassifier(n_neighbors=9)"
      ]
     },
     "execution_count": 23,
     "metadata": {},
     "output_type": "execute_result"
    }
   ],
   "source": [
    "#entrenem i fem predicció en les dades de test amb el nou valor de K=9\n",
    "from sklearn.neighbors import KNeighborsClassifier\n",
    "classifier_2 = KNeighborsClassifier(n_neighbors=9)\n",
    "classifier_2.fit(X_train, y_train)"
   ]
  },
  {
   "cell_type": "code",
   "execution_count": 25,
   "id": "6c7d66af",
   "metadata": {
    "ExecuteTime": {
     "end_time": "2022-06-08T12:51:36.945173Z",
     "start_time": "2022-06-08T12:51:31.997246Z"
    }
   },
   "outputs": [],
   "source": [
    "y_pred_knn = classifier_2.predict(X_test)"
   ]
  },
  {
   "cell_type": "code",
   "execution_count": 26,
   "id": "97b37caa",
   "metadata": {
    "ExecuteTime": {
     "end_time": "2022-06-08T12:51:40.171154Z",
     "start_time": "2022-06-08T12:51:36.947099Z"
    }
   },
   "outputs": [
    {
     "name": "stdout",
     "output_type": "stream",
     "text": [
      "[[ 2918  7307]\n",
      " [ 2565 83629]]\n",
      "              precision    recall  f1-score   support\n",
      "\n",
      "           0       0.53      0.29      0.37     10225\n",
      "           1       0.92      0.97      0.94     86194\n",
      "\n",
      "    accuracy                           0.90     96419\n",
      "   macro avg       0.73      0.63      0.66     96419\n",
      "weighted avg       0.88      0.90      0.88     96419\n",
      "\n"
     ]
    }
   ],
   "source": [
    "#avaluem de nou l'algoritme\n",
    "print(confusion_matrix(y_test, y_pred_knn))\n",
    "print(classification_report(y_test, y_pred_knn))"
   ]
  },
  {
   "cell_type": "markdown",
   "id": "a2c48f99",
   "metadata": {},
   "source": [
    "com ja ens podiem suposar no ha millorat gaire les mètriques del model"
   ]
  },
  {
   "cell_type": "markdown",
   "id": "5c64292d",
   "metadata": {},
   "source": [
    "### Ex2: Compara els models de classificació utilitzant la precisió (accuracy), una matriu de confussió i d’altres mètriques més avançades"
   ]
  },
  {
   "cell_type": "markdown",
   "id": "bf3fc286",
   "metadata": {},
   "source": [
    "Els càlculs ja estan fets quan he creat cada mètode a l'exercici 1"
   ]
  },
  {
   "cell_type": "markdown",
   "id": "3c0a8fc1",
   "metadata": {
    "ExecuteTime": {
     "end_time": "2022-06-08T09:10:23.485330Z",
     "start_time": "2022-06-08T09:10:21.637107Z"
    }
   },
   "source": [
    "## Comparativa entre mètodes\n",
    "\n",
    "### Regressió Logística\n",
    "* Accuracy = 99,99%\n",
    "* Precision: 99,96%\n",
    "* confusion matrix\n",
    "\n",
    "    [[ 12971      0]\n",
    "    \n",
    "     [     5 107548]]\n",
    "\n",
    "\n",
    "* recall= 99,99%\n",
    "* f1-score = 99,99%\n",
    "\n"
   ]
  },
  {
   "cell_type": "markdown",
   "id": "d135c6b4",
   "metadata": {},
   "source": [
    "### Decission Tree Algorithm\n",
    "\n",
    "* confusion matrix\n",
    "\n",
    "    [[ 5333  7638]\n",
    "     [ 8250 99303]]\n",
    "     \n",
    "     \n",
    "* classification report\n",
    "\n",
    "              precision    recall  f1-score   support\n",
    "\n",
    "           0       0.39      0.41      0.40     12971\n",
    "           1       0.93      0.92      0.93    107553\n",
    "        accuracy                       0.87    120524\n",
    "        macro avg  0.66      0.67      0.66    120524\n",
    "        weightavg  0.87      0.87      0.87    120524\n",
    "   "
   ]
  },
  {
   "cell_type": "markdown",
   "id": "af6eb29d",
   "metadata": {},
   "source": [
    "### KNN\n",
    "\n",
    "* confusion matrix\n",
    "\n",
    "    [[ 3239  6902]\n",
    "     [ 3417 82861]]\n",
    "     \n",
    "     \n",
    "* classification report\n",
    "\n",
    "              precision    recall  f1-score   support\n",
    "\n",
    "           0       0.49      0.32      0.39     10141\n",
    "           1       0.92      0.96      0.94     86278\n",
    "        accuracy                       0.90     96419\n",
    "        macro avg  0.76      0.60      0.64     96419\n",
    "        weightavg  0.88      0.90      0.88     96419"
   ]
  },
  {
   "cell_type": "markdown",
   "id": "23bab8ec",
   "metadata": {},
   "source": [
    "### Ex3: Entrena’ls utilitzant els diferents paràmetres que admeten"
   ]
  },
  {
   "cell_type": "markdown",
   "id": "bc257488",
   "metadata": {},
   "source": [
    "L'exercici per facilitat amb les dades està fet just sota cada model, hi ha el model i el seu entrenament"
   ]
  },
  {
   "cell_type": "markdown",
   "id": "270fab47",
   "metadata": {},
   "source": [
    "### Ex4: Compara el seu rendiment utilitzant l’aproximació traint/test o cross-validation"
   ]
  },
  {
   "cell_type": "markdown",
   "id": "ded4f2ae",
   "metadata": {},
   "source": [
    "En alguns dels mètodes ja s'ha fet servir l'aproximació train/test, i en altres cross validation."
   ]
  },
  {
   "cell_type": "markdown",
   "id": "c776bfdb",
   "metadata": {},
   "source": [
    "### Ex5: Realitza algun procés d’enginyeria de variables per millorar-ne la predicció "
   ]
  },
  {
   "cell_type": "markdown",
   "id": "5065e5cc",
   "metadata": {},
   "source": [
    "### Ex6: No utilitzis la variable DepDelay a l’hora de fer prediccions "
   ]
  },
  {
   "cell_type": "code",
   "execution_count": null,
   "id": "ea296ebe",
   "metadata": {},
   "outputs": [],
   "source": []
  },
  {
   "cell_type": "markdown",
   "id": "64ebe5c1",
   "metadata": {},
   "source": [
    "#there is a handy library called lazypredict, with which you can train all the models available in scikit-learn (and more, like XGBoost and LightGBM) with a single line of code\n",
    "from lazypredict.Supervised import LazyClassifier, LazyRegressor\n",
    "from sklearn.model_selection import train_test_split\n",
    "from sklearn import datasets"
   ]
  }
 ],
 "metadata": {
  "kernelspec": {
   "display_name": "Python 3 (ipykernel)",
   "language": "python",
   "name": "python3"
  },
  "language_info": {
   "codemirror_mode": {
    "name": "ipython",
    "version": 3
   },
   "file_extension": ".py",
   "mimetype": "text/x-python",
   "name": "python",
   "nbconvert_exporter": "python",
   "pygments_lexer": "ipython3",
   "version": "3.9.7"
  },
  "latex_envs": {
   "LaTeX_envs_menu_present": true,
   "autoclose": false,
   "autocomplete": true,
   "bibliofile": "biblio.bib",
   "cite_by": "apalike",
   "current_citInitial": 1,
   "eqLabelWithNumbers": true,
   "eqNumInitial": 1,
   "hotkeys": {
    "equation": "Ctrl-E",
    "itemize": "Ctrl-I"
   },
   "labels_anchors": false,
   "latex_user_defs": false,
   "report_style_numbering": false,
   "user_envs_cfg": false
  }
 },
 "nbformat": 4,
 "nbformat_minor": 5
}
